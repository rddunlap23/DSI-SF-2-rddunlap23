{
 "cells": [
  {
   "cell_type": "code",
   "execution_count": 2,
   "metadata": {
    "collapsed": false
   },
   "outputs": [
    {
     "data": {
      "text/plain": [
       "[[0, 0], [1, 1], [4, 8], [9, 27], [16, 64]]"
      ]
     },
     "execution_count": 2,
     "metadata": {},
     "output_type": "execute_result"
    }
   ],
   "source": [
    "#Nested list comprehenion\n",
    "\n",
    "a = [[0,0],[1,1],[4,8],[9,27],[16,64]]\n",
    "a"
   ]
  },
  {
   "cell_type": "code",
   "execution_count": 9,
   "metadata": {
    "collapsed": false
   },
   "outputs": [
    {
     "name": "stdout",
     "output_type": "stream",
     "text": [
      "[[1.0, 1.0], [2.0, 2.8284271247461903], [3.0, 5.196152422706632], [4.0, 8.0]]\n"
     ]
    }
   ],
   "source": [
    "# Objective is to get sqrt of each number:\n",
    "import numpy as np\n",
    "\n",
    "output  = []\n",
    "for num_list in a:\n",
    "    internal_list = []\n",
    "    if not 0 in num_list:\n",
    "        for num in num_list:\n",
    "            internal_list.append(np.sqrt(num))\n",
    "        output.append(internal_list)\n",
    "print output"
   ]
  },
  {
   "cell_type": "code",
   "execution_count": 14,
   "metadata": {
    "collapsed": false
   },
   "outputs": [
    {
     "name": "stdout",
     "output_type": "stream",
     "text": [
      "[[1.0, 1.0], [2.0, 2.8284271247461903], [3.0, 5.196152422706632], [4.0, 8.0]]\n"
     ]
    }
   ],
   "source": [
    "#list comprehension\n",
    "#anatomy:\n",
    "#[selector/modifier | from/iterator| where /filter] <- brakets = output list\n",
    "\n",
    "x = [n for num_list in a for n in num_list]\n",
    "\n",
    "lc = [\n",
    "    [\n",
    "        np.sqrt(num) # <-- inner selector/modifier\n",
    "        for num in num_list #<-- inner for/iterator\n",
    "    ] #output list inner\n",
    "        for num_list in a #<-- outer for/iterator\n",
    "        if not 0 in num_list #<--outer where/filter\n",
    "]\n",
    "\n",
    "print lc"
   ]
  },
  {
   "cell_type": "code",
   "execution_count": null,
   "metadata": {
    "collapsed": true
   },
   "outputs": [],
   "source": []
  }
 ],
 "metadata": {
  "anaconda-cloud": {},
  "kernelspec": {
   "display_name": "Python [dsi]",
   "language": "python",
   "name": "Python [dsi]"
  },
  "language_info": {
   "codemirror_mode": {
    "name": "ipython",
    "version": 2
   },
   "file_extension": ".py",
   "mimetype": "text/x-python",
   "name": "python",
   "nbconvert_exporter": "python",
   "pygments_lexer": "ipython2",
   "version": "2.7.12"
  }
 },
 "nbformat": 4,
 "nbformat_minor": 0
}
