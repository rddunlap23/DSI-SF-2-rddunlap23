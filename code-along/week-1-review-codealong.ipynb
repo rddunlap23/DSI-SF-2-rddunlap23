{
 "cells": [
  {
   "cell_type": "markdown",
   "metadata": {},
   "source": [
    "# Week 1 review\n",
    "\n",
    "---\n",
    "\n",
    "### Topics (ranked by pain):\n",
    "\n"
   ]
  },
  {
   "cell_type": "markdown",
   "metadata": {},
   "source": [
    "---\n",
    "\n",
    "### Packages"
   ]
  },
  {
   "cell_type": "code",
   "execution_count": 1,
   "metadata": {
    "collapsed": true
   },
   "outputs": [],
   "source": [
    "import csv\n",
    "import numpy as np\n",
    "import pandas as pd"
   ]
  },
  {
   "cell_type": "markdown",
   "metadata": {},
   "source": [
    "## Car dataset"
   ]
  },
  {
   "cell_type": "code",
   "execution_count": 2,
   "metadata": {
    "collapsed": true
   },
   "outputs": [],
   "source": [
    "# my path - put your specific one in place of this"
   ]
  },
  {
   "cell_type": "code",
   "execution_count": 6,
   "metadata": {
    "collapsed": true
   },
   "outputs": [],
   "source": [
    "car_filename = '/Users/ryandunlap/Desktop/DSI-SF-2-rddunlap23/datasets/used_cars.csv'"
   ]
  },
  {
   "cell_type": "code",
   "execution_count": 2,
   "metadata": {
    "collapsed": false
   },
   "outputs": [
    {
     "name": "stdout",
     "output_type": "stream",
     "text": [
      "22\n"
     ]
    }
   ],
   "source": [
    "students = ['Denise','Alex','Alex K', 'Carlos', 'Vanessa','Ryan','Cecilia','Tim',\n",
    "           'Kat','Kyle','Divya','Amos','Caitlin','Lenny','Ovid','Chris',\n",
    "           'Nick','Paul','Daniel','Edward','Nivetha','Nicholle']\n",
    "\n",
    "print len(students)"
   ]
  },
  {
   "cell_type": "markdown",
   "metadata": {},
   "source": [
    "### The order of cold-calls:"
   ]
  },
  {
   "cell_type": "code",
   "execution_count": 5,
   "metadata": {
    "collapsed": true
   },
   "outputs": [],
   "source": [
    "victims = np.random.choice(students, size=len(students), replace=False)"
   ]
  },
  {
   "cell_type": "code",
   "execution_count": 14,
   "metadata": {
    "collapsed": false
   },
   "outputs": [
    {
     "name": "stdout",
     "output_type": "stream",
     "text": [
      "['price', 'year', 'miles', 'doors', 'type']\n",
      "['22000', '2012', '13000', '2', 'car']\n",
      "['14000', '2010', '30000', '2', 'car']\n",
      "['13000', '2010', '73500', '4', 'car']\n",
      "['9500', '2009', '78000', '4', 'car']\n",
      "['9000', '2007', '47000', '4', 'car']\n",
      "['4000', '2006', '124000', '2', 'car']\n",
      "['3000', '2004', '177000', '4', 'car']\n",
      "['2000', '2004', '209000', '4', 'truck']\n",
      "['3000', '2003', '138000', '2', 'car']\n",
      "['1900', '2003', '160000', '4', 'car']\n",
      "['2500', '2003', '190000', '2', 'truck']\n",
      "['5000', '2001', '62000', '4', 'car']\n",
      "['1800', '1999', '163000', '2', 'truck']\n",
      "['1300', '1997', '138000', '4', 'car']\n"
     ]
    }
   ],
   "source": [
    "with open(car_filename,'r') as f:\n",
    "    data = [row.strip().split(',') for row in f]\n",
    "\n",
    "for row in data:\n",
    "    print row"
   ]
  },
  {
   "cell_type": "code",
   "execution_count": 15,
   "metadata": {
    "collapsed": false
   },
   "outputs": [
    {
     "name": "stdout",
     "output_type": "stream",
     "text": [
      "['22000', '14000', '13000', '9500', '9000', '4000', '3000', '2000', '3000', '1900', '2500', '5000', '1800', '1300']\n"
     ]
    }
   ],
   "source": [
    "prices = [x[0] for x in data[1:]]"
   ]
  },
  {
   "cell_type": "code",
   "execution_count": 16,
   "metadata": {
    "collapsed": false
   },
   "outputs": [
    {
     "name": "stdout",
     "output_type": "stream",
     "text": [
      "[1, 2, 3, 4]\n"
     ]
    }
   ],
   "source": [
    "x = [[1,2],[3,4]]\n",
    "\n",
    "y = [n for row in x for n in row]\n",
    "\n",
    "print y"
   ]
  },
  {
   "cell_type": "code",
   "execution_count": 29,
   "metadata": {
    "collapsed": false
   },
   "outputs": [],
   "source": [
    "filtered = [[float(x) if x.isdigit() else x for x in row] for row in data]"
   ]
  },
  {
   "cell_type": "code",
   "execution_count": 45,
   "metadata": {
    "collapsed": false
   },
   "outputs": [
    {
     "name": "stdout",
     "output_type": "stream",
     "text": [
      "CPU times: user 15 µs, sys: 3 µs, total: 18 µs\n",
      "Wall time: 19.1 µs\n",
      "[['price', 'year', 'miles', 'doors', 'type'], [22000.0, 2012.0, 13000.0, 2.0, 'car'], [14000.0, 2010.0, 30000.0, 2.0, 'car'], [13000.0, 2010.0, 73500.0, 4.0, 'car'], [9500.0, 2009.0, 78000.0, 4.0, 'car'], [9000.0, 2007.0, 47000.0, 4.0, 'car'], [4000.0, 2006.0, 124000.0, 2.0, 'car'], [3000.0, 2004.0, 177000.0, 4.0, 'car'], [2000.0, 2004.0, 209000.0, 4.0, 'truck'], [3000.0, 2003.0, 138000.0, 2.0, 'car'], [1900.0, 2003.0, 160000.0, 4.0, 'car'], [2500.0, 2003.0, 190000.0, 2.0, 'truck'], [5000.0, 2001.0, 62000.0, 4.0, 'car'], [1800.0, 1999.0, 163000.0, 2.0, 'truck'], [1300.0, 1997.0, 138000.0, 4.0, 'car']]\n",
      "{'price': ['price'], 'miles': ['miles'], 'type': ['type'], 'doors': ['doors'], 'year': ['year']}\n"
     ]
    }
   ],
   "source": [
    "%time my_dic = {row[0]:row[1:] for row in zip(*filtered)}\n",
    "\n",
    "for_dic = {col:[] for col in filtered[0]}\n",
    "header_index = enumerate(filtered[0])\n",
    "print filtered\n",
    "\n",
    "for row in filtered:\n",
    "    for i,col in header_index:\n",
    "        #print col\n",
    "        for_dic[col].append(row[i])\n",
    "\n",
    "print for_dic\n",
    "        \n"
   ]
  },
  {
   "cell_type": "code",
   "execution_count": null,
   "metadata": {
    "collapsed": true
   },
   "outputs": [],
   "source": []
  }
 ],
 "metadata": {
  "kernelspec": {
   "display_name": "Python [dsi]",
   "language": "python",
   "name": "Python [dsi]"
  },
  "language_info": {
   "codemirror_mode": {
    "name": "ipython",
    "version": 2
   },
   "file_extension": ".py",
   "mimetype": "text/x-python",
   "name": "python",
   "nbconvert_exporter": "python",
   "pygments_lexer": "ipython2",
   "version": "2.7.12"
  }
 },
 "nbformat": 4,
 "nbformat_minor": 0
}
