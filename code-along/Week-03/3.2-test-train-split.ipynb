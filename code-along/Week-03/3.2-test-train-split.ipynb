{
 "cells": [
  {
   "cell_type": "markdown",
   "metadata": {
    "nbpresent": {
     "id": "3b830f86-f329-40ff-b1a2-d855487adb20"
    },
    "slideshow": {
     "slide_type": "slide"
    }
   },
   "source": [
    "<img src=\"https://ga-dash.s3.amazonaws.com/production/assets/logo-9f88ae6c9c3871690e33280fcf557f33.png\" style=\"float:  left; margin: 10px;\">\n",
    "\n",
    "# Test / Train / Split\n",
    "---\n",
    "Week 3 | Lesson 3.2\n",
    "\n",
    "### LEARNING OBJECTIVES\n",
    "*After this lesson, you will be able to:*\n",
    "- Split data into testing and training sets\n",
    "- Perform cross validation scoring\n",
    "- Make cross validation predictions\n"
   ]
  },
  {
   "cell_type": "markdown",
   "metadata": {
    "nbpresent": {
     "id": "ae038b8f-5f9d-4c96-a5e0-f36b719ccd35"
    },
    "slideshow": {
     "slide_type": "slide"
    }
   },
   "source": [
    "### STUDENT PRE-WORK\n",
    "*Before this lesson, you should already be able to:*\n",
    "- Fit a linear model to a dataframe\n",
    "- Basic use of sci-kit learn"
   ]
  },
  {
   "cell_type": "markdown",
   "metadata": {
    "nbpresent": {
     "id": "2edadf65-0f45-4a31-ac88-4d73446f9651"
    },
    "slideshow": {
     "slide_type": "slide"
    }
   },
   "source": [
    "### LESSON GUIDE\n",
    "| TIMING  | TYPE  | TOPIC  |\n",
    "|:-:|---|---|\n",
    "| 5 min  | [Opening](#opening)  | Topic description  |\n",
    "| 10 min  | [Introduction](#introduction)   | Topic description  |\n",
    "| 15 min  | [Demo](#demo)  | Topic description  |\n",
    "| 25 min  | [Guided Practice](#guided-practice<a name=\"opening\"></a>)  | Topic description  |\n",
    "| 25 min  | [Independent Practice](#ind-practice)  | Topic description  |\n",
    "| 5 min  | [Conclusion](#conclusion)  | Topic description  |\n",
    "\n",
    "---"
   ]
  },
  {
   "cell_type": "markdown",
   "metadata": {
    "nbpresent": {
     "id": "ee74706a-31aa-4b45-9629-54c40d26f2cd"
    },
    "slideshow": {
     "slide_type": "slide"
    }
   },
   "source": [
    "<img src=\"http://tomrobertshaw.net/img/2015/12/overfitting.jpg\" width=\"400\">"
   ]
  },
  {
   "cell_type": "markdown",
   "metadata": {
    "nbpresent": {
     "id": "e7c94319-9099-4986-abd0-2cd6a801d33e"
    },
    "slideshow": {
     "slide_type": "slide"
    }
   },
   "source": [
    "<img src=\"http://image.slidesharecdn.com/nncollovcapaldo2013-131220052427-phpapp01/95/machine-learning-introduction-to-neural-networks-12-638.jpg?cb=1393073301\">"
   ]
  },
  {
   "cell_type": "markdown",
   "metadata": {
    "nbpresent": {
     "id": "2e93add9-5cab-4ed4-ae49-7d506c89e101"
    },
    "slideshow": {
     "slide_type": "slide"
    }
   },
   "source": [
    "### Another Example\n",
    "<img src=\"http://www.holehouse.org/mlclass/07_Regularization_files/Image%20[1].png\" width=\"500\">"
   ]
  },
  {
   "cell_type": "markdown",
   "metadata": {
    "nbpresent": {
     "id": "ee3ab33b-bf26-4536-b085-81faf26e85be"
    },
    "slideshow": {
     "slide_type": "slide"
    }
   },
   "source": [
    "<a name=\"introduction\"></a>\n",
    "## Introduction: Topic (5 mins)\n",
    "\n",
    "So far we've focused on fitting the **best model** to our data. In practice, we need\n",
    "to also make and **validate predictions** with our models. By **splitting our data** set\n",
    "into a **subset to train our model** on and a subset to make and test predictions\n",
    "on, we can **validate the effectiveness** of our model. This is called a **_train/test\n",
    "split_** and we'll explore a number of ways to effectively carry out the split.\n",
    "It's also a good way to avoid overfitting on your dataset (but not always).\n",
    "\n",
    "**Test/train split benefits:**\n",
    "* **Save a subset of data to make predictions**\n",
    "* **Can verify predictions without having to collect new data (which may be\n",
    "difficult or expensive)**\n",
    "* Can help avoid overfitting\n",
    "* Improve the quality of our predictions\n"
   ]
  },
  {
   "cell_type": "markdown",
   "metadata": {
    "nbpresent": {
     "id": "c9e4e11f-c30c-4eb4-9458-889f7e58d9aa"
    },
    "slideshow": {
     "slide_type": "slide"
    }
   },
   "source": [
    "## About Cross-Validation\n",
    "\n",
    "We use cross-validation to sample our data in order to understand how it may perform in a variety of cases, given a set of parameters.  It also helps us understand how predictions react to data.  Largely, we are \"testing\" how our model stands up to basic assumptions, given a model.\n",
    "\n",
    "Why Validate?\n",
    "\n",
    "- Test the model\n",
    "- Avoid overfitting\n",
    "- How well a model generalizes to an independent dataset\n",
    "\n",
    "_The goal of cross validation is to define a dataset to \"test\" the model in the training phase (i.e., the validation dataset), in order to limit problems like overfitting, give an insight on how the model will generalize to an independent dataset (i.e., an unknown dataset, for instance from a real problem), etc._"
   ]
  },
  {
   "cell_type": "markdown",
   "metadata": {
    "nbpresent": {
     "id": "0f8fc181-9147-4ef0-86a6-acf7a0c2a673"
    },
    "slideshow": {
     "slide_type": "slide"
    }
   },
   "source": [
    "## K-Fold Validation\n",
    "\n",
    "Essentially, K-Fold splits our dataset up into K-Folds, and uses one segment to test.\n",
    "\n",
    "- Split data into K folds (subsets)\n",
    "- Use K-1 for training\n",
    "- Use 1 for testing\n",
    "- Repeat K times\n",
    "- Mean results\n"
   ]
  },
  {
   "cell_type": "markdown",
   "metadata": {
    "nbpresent": {
     "id": "476164ec-ae7a-44d2-93da-0c1c7601bd65"
    },
    "slideshow": {
     "slide_type": "slide"
    }
   },
   "source": [
    "## K-Fold Validation In Action\n",
    "\n",
    "<img src=\"https://qph.is.quoracdn.net/main-qimg-c46f088d0ebf6598226e22aeac930512?convert_to_webp=true\" width=\"500\"a>"
   ]
  },
  {
   "cell_type": "markdown",
   "metadata": {
    "nbpresent": {
     "id": "c773c902-813f-4d64-8cb6-3518e45a55ff"
    }
   },
   "source": [
    "## A quick note about \"Hold Out\" validation\n",
    "\n",
    "Briefly, sometimes you'll hear about \"hold out\" validation.  Essentially, you ommit a section of data from any validation setup, in order to truly test unknown data against your model.\n",
    "\n",
    "The main reason you might try this:\n",
    "\n",
    "- Test your \"winning\" model against truly clean data\n",
    "- \"Truly clean\" is data a model has never seen \n"
   ]
  },
  {
   "cell_type": "markdown",
   "metadata": {
    "nbpresent": {
     "id": "170af0f2-765e-439b-bf28-2536010a3867"
    }
   },
   "source": [
    "## INTO NOTEBOOK!\n",
    "\n"
   ]
  },
  {
   "cell_type": "markdown",
   "metadata": {
    "nbpresent": {
     "id": "25d5bc34-2c9c-4b6e-a3da-18a4a39f566e"
    },
    "slideshow": {
     "slide_type": "slide"
    }
   },
   "source": [
    "## (2 mins) Question:  Is 2-fold cross-validation the same as a 50:50 test/train split?  "
   ]
  },
  {
   "cell_type": "markdown",
   "metadata": {
    "nbpresent": {
     "id": "b5fc7976-9c6d-4f44-aa71-ff506caf3c02"
    },
    "slideshow": {
     "slide_type": "notes"
    }
   },
   "source": [
    "It may seem so at first glance, but with 2-fold cross-validation we get a\n",
    "prediction for every point since we use each half of the data to train and test\n",
    "separate models."
   ]
  },
  {
   "cell_type": "markdown",
   "metadata": {
    "nbpresent": {
     "id": "0b86ef1b-8b3d-41ba-9e27-0c7ff7ce5a9b"
    },
    "slideshow": {
     "slide_type": "slide"
    }
   },
   "source": [
    "## (2 mins) Question:  Will two different 50:50 (or x:y) splits produce the same model score?\n",
    "\n"
   ]
  },
  {
   "cell_type": "markdown",
   "metadata": {
    "nbpresent": {
     "id": "5d9bdedc-85fe-4d0c-9f04-47e9a66896a5"
    },
    "slideshow": {
     "slide_type": "fragment"
    }
   },
   "source": [
    "Consider these cases:\n",
    "- Splits on time of day\n",
    "- Splits on categorical variables\n",
    "- Splits on dataframes with different bit masks"
   ]
  },
  {
   "cell_type": "markdown",
   "metadata": {
    "nbpresent": {
     "id": "9ea66a03-54b0-4a5d-a8fa-746ce3a2a298"
    },
    "slideshow": {
     "slide_type": "notes"
    }
   },
   "source": [
    "In general no, and if the splits are chosen poorly along a categorical variable, the difference could be very large. For example, theme park attendence might be very different depending on the day of the week. Can students think\n",
    "of other examples?"
   ]
  },
  {
   "cell_type": "markdown",
   "metadata": {
    "nbpresent": {
     "id": "1adddd47-2964-4652-9f34-1604745a7a6a"
    },
    "slideshow": {
     "slide_type": "slide"
    }
   },
   "source": [
    "### ADDITIONAL RESOURCES (SCIKIT)\n",
    "\n",
    "- [Cross-validation Example](http://scikit-learn.org/stable/auto_examples/exercises/plot_cv_diabetes.html#example-exercises-plot-cv-diabetes-py)\n",
    "- [Plotting Cross-Validated Predictions](http://scikit-learn.org/stable/auto_examples/plot_cv_predict.html)"
   ]
  },
  {
   "cell_type": "markdown",
   "metadata": {
    "nbpresent": {
     "id": "385e351c-27a3-4ca2-8649-bb77a46789d0"
    },
    "slideshow": {
     "slide_type": "slide"
    }
   },
   "source": [
    "## Conclusion\n",
    "\n",
    "- Split data into testing and training sets\n",
    "- Perform cross validation scoring\n",
    "- Make cross validation predictions"
   ]
  }
 ],
 "metadata": {
  "celltoolbar": "Slideshow",
  "kernelspec": {
   "display_name": "Python [dsi]",
   "language": "python",
   "name": "Python [dsi]"
  },
  "language_info": {
   "codemirror_mode": {
    "name": "ipython",
    "version": 2
   },
   "file_extension": ".py",
   "mimetype": "text/x-python",
   "name": "python",
   "nbconvert_exporter": "python",
   "pygments_lexer": "ipython2",
   "version": "2.7.12"
  },
  "nbpresent": {
   "slides": {
    "0dcd949d-2a21-4b7a-9065-eaf66b315283": {
     "id": "0dcd949d-2a21-4b7a-9065-eaf66b315283",
     "prev": "945f862d-90f6-4fad-b0ea-2d19d73ffd2b",
     "regions": {
      "145c5c0d-15e0-4b8c-8a78-4b4542a7a10f": {
       "attrs": {
        "height": 0.8,
        "width": 0.8,
        "x": 0.1,
        "y": 0.1
       },
       "content": {
        "cell": "ee3ab33b-bf26-4536-b085-81faf26e85be",
        "part": "whole"
       },
       "id": "145c5c0d-15e0-4b8c-8a78-4b4542a7a10f"
      }
     }
    },
    "21dbe162-e151-41db-8c39-0e359c395dc5": {
     "id": "21dbe162-e151-41db-8c39-0e359c395dc5",
     "prev": "d31c5adf-81ff-47ee-9c91-a8932c923812",
     "regions": {
      "9e745737-d436-49cd-961c-542a26ae426f": {
       "attrs": {
        "height": 0.8,
        "width": 0.8,
        "x": 0.1,
        "y": 0.1
       },
       "content": {
        "cell": "b5fc7976-9c6d-4f44-aa71-ff506caf3c02",
        "part": "whole"
       },
       "id": "9e745737-d436-49cd-961c-542a26ae426f"
      }
     }
    },
    "2a55d7aa-70fe-4b3d-a917-1583b1793a2c": {
     "id": "2a55d7aa-70fe-4b3d-a917-1583b1793a2c",
     "prev": "761419ee-16e2-440c-9ed4-e4ea82330bad",
     "regions": {
      "90c1e1ea-4f2b-45f4-a049-0f95357dda49": {
       "attrs": {
        "height": 0.8,
        "width": 0.8,
        "x": 0.1,
        "y": 0.1
       },
       "content": {
        "cell": "1adddd47-2964-4652-9f34-1604745a7a6a",
        "part": "whole"
       },
       "id": "90c1e1ea-4f2b-45f4-a049-0f95357dda49"
      }
     }
    },
    "3b598de0-5427-4b98-9418-ea83826125f3": {
     "id": "3b598de0-5427-4b98-9418-ea83826125f3",
     "prev": "2a55d7aa-70fe-4b3d-a917-1583b1793a2c",
     "regions": {
      "a27fc438-0cbd-4245-a4f5-3d81098534b1": {
       "attrs": {
        "height": 0.8,
        "width": 0.8,
        "x": 0.1,
        "y": 0.1
       },
       "content": {
        "cell": "385e351c-27a3-4ca2-8649-bb77a46789d0",
        "part": "whole"
       },
       "id": "a27fc438-0cbd-4245-a4f5-3d81098534b1"
      }
     }
    },
    "428fdabc-43fe-432b-ab56-0ca25bc93c8d": {
     "id": "428fdabc-43fe-432b-ab56-0ca25bc93c8d",
     "prev": "eaae2e29-36f2-44da-bb7c-9a121e1b5c2c",
     "regions": {
      "f524c2b2-1a0e-495a-9558-ffc662d56bd4": {
       "attrs": {
        "height": 0.8,
        "width": 0.8,
        "x": 0.1,
        "y": 0.1
       },
       "content": {
        "cell": "ae038b8f-5f9d-4c96-a5e0-f36b719ccd35",
        "part": "whole"
       },
       "id": "f524c2b2-1a0e-495a-9558-ffc662d56bd4"
      }
     }
    },
    "5b44d7de-74d4-4c1b-9caf-c79260303ef7": {
     "id": "5b44d7de-74d4-4c1b-9caf-c79260303ef7",
     "prev": "ecfd0f68-9cd8-46b4-8dd1-61b668f46eec",
     "regions": {
      "380dee96-ad52-46d2-b798-4dbae59b22d2": {
       "attrs": {
        "height": 0.8,
        "width": 0.8,
        "x": 0.1,
        "y": 0.1
       },
       "content": {
        "cell": "0f8fc181-9147-4ef0-86a6-acf7a0c2a673",
        "part": "whole"
       },
       "id": "380dee96-ad52-46d2-b798-4dbae59b22d2"
      }
     }
    },
    "63250272-cec8-4faa-9304-d70ae2b66c3b": {
     "id": "63250272-cec8-4faa-9304-d70ae2b66c3b",
     "prev": "5b44d7de-74d4-4c1b-9caf-c79260303ef7",
     "regions": {
      "bf5d06ed-8ac0-4353-aa2d-25a5422d84a6": {
       "attrs": {
        "height": 0.8,
        "width": 0.8,
        "x": 0.1,
        "y": 0.1
       },
       "content": {
        "cell": "476164ec-ae7a-44d2-93da-0c1c7601bd65",
        "part": "whole"
       },
       "id": "bf5d06ed-8ac0-4353-aa2d-25a5422d84a6"
      }
     }
    },
    "69c5d3d0-0f43-4887-a902-c05941c05390": {
     "id": "69c5d3d0-0f43-4887-a902-c05941c05390",
     "prev": "21dbe162-e151-41db-8c39-0e359c395dc5",
     "regions": {
      "46c42d29-379b-401d-a1f3-c4b5baa5f350": {
       "attrs": {
        "height": 0.8,
        "width": 0.8,
        "x": 0.1,
        "y": 0.1
       },
       "content": {
        "cell": "0b86ef1b-8b3d-41ba-9e27-0c7ff7ce5a9b",
        "part": "whole"
       },
       "id": "46c42d29-379b-401d-a1f3-c4b5baa5f350"
      }
     }
    },
    "74d3a675-51a2-46d4-8d84-ac984be1065f": {
     "id": "74d3a675-51a2-46d4-8d84-ac984be1065f",
     "prev": "f13e5db5-48fb-48c2-9590-239aa129a92e",
     "regions": {
      "0ea06b60-e4df-4a9c-b2dc-b4bec834cffc": {
       "attrs": {
        "height": 0.8,
        "width": 0.8,
        "x": 0.1,
        "y": 0.1
       },
       "content": {
        "cell": "e7c94319-9099-4986-abd0-2cd6a801d33e",
        "part": "whole"
       },
       "id": "0ea06b60-e4df-4a9c-b2dc-b4bec834cffc"
      }
     }
    },
    "761419ee-16e2-440c-9ed4-e4ea82330bad": {
     "id": "761419ee-16e2-440c-9ed4-e4ea82330bad",
     "prev": "e81901aa-a0d1-4cd3-8fcf-2872594870dd",
     "regions": {
      "0e762e07-f82f-460a-a301-638cf2bed0ab": {
       "attrs": {
        "height": 0.8,
        "width": 0.8,
        "x": 0.1,
        "y": 0.1
       },
       "content": {
        "cell": "9ea66a03-54b0-4a5d-a8fa-746ce3a2a298",
        "part": "whole"
       },
       "id": "0e762e07-f82f-460a-a301-638cf2bed0ab"
      }
     }
    },
    "8743b573-6778-469c-83db-94de5752c57e": {
     "id": "8743b573-6778-469c-83db-94de5752c57e",
     "prev": "bc59e4f9-e8a6-448b-a16d-d095031d73ac",
     "regions": {
      "d6dca74d-58c8-494f-9c95-23166972855c": {
       "attrs": {
        "height": 0.8,
        "width": 0.8,
        "x": 0.1,
        "y": 0.1
       },
       "content": {
        "cell": "170af0f2-765e-439b-bf28-2536010a3867",
        "part": "whole"
       },
       "id": "d6dca74d-58c8-494f-9c95-23166972855c"
      }
     }
    },
    "8c6dd40b-858d-4471-af8c-894c41d93de2": {
     "id": "8c6dd40b-858d-4471-af8c-894c41d93de2",
     "prev": "428fdabc-43fe-432b-ab56-0ca25bc93c8d",
     "regions": {
      "2044f86d-edb5-430d-96b1-803fb205333d": {
       "attrs": {
        "height": 0.8,
        "width": 0.8,
        "x": 0.1,
        "y": 0.1
       },
       "content": {
        "cell": "2edadf65-0f45-4a31-ac88-4d73446f9651",
        "part": "whole"
       },
       "id": "2044f86d-edb5-430d-96b1-803fb205333d"
      }
     }
    },
    "945f862d-90f6-4fad-b0ea-2d19d73ffd2b": {
     "id": "945f862d-90f6-4fad-b0ea-2d19d73ffd2b",
     "prev": "74d3a675-51a2-46d4-8d84-ac984be1065f",
     "regions": {
      "2da56ce4-3580-46bb-a17f-e17bfab9a90c": {
       "attrs": {
        "height": 0.8,
        "width": 0.8,
        "x": 0.1,
        "y": 0.1
       },
       "content": {
        "cell": "2e93add9-5cab-4ed4-ae49-7d506c89e101",
        "part": "whole"
       },
       "id": "2da56ce4-3580-46bb-a17f-e17bfab9a90c"
      }
     }
    },
    "bc59e4f9-e8a6-448b-a16d-d095031d73ac": {
     "id": "bc59e4f9-e8a6-448b-a16d-d095031d73ac",
     "prev": "63250272-cec8-4faa-9304-d70ae2b66c3b",
     "regions": {
      "2f29979a-5254-43af-afa3-dcf8e708f9d5": {
       "attrs": {
        "height": 0.8,
        "width": 0.8,
        "x": 0.1,
        "y": 0.1
       },
       "content": {
        "cell": "c773c902-813f-4d64-8cb6-3518e45a55ff",
        "part": "whole"
       },
       "id": "2f29979a-5254-43af-afa3-dcf8e708f9d5"
      }
     }
    },
    "d31c5adf-81ff-47ee-9c91-a8932c923812": {
     "id": "d31c5adf-81ff-47ee-9c91-a8932c923812",
     "prev": "8743b573-6778-469c-83db-94de5752c57e",
     "regions": {
      "dfd4b1ef-b3b2-40b4-84cd-aea1ffe2a443": {
       "attrs": {
        "height": 0.8,
        "width": 0.8,
        "x": 0.1,
        "y": 0.1
       },
       "content": {
        "cell": "25d5bc34-2c9c-4b6e-a3da-18a4a39f566e",
        "part": "whole"
       },
       "id": "dfd4b1ef-b3b2-40b4-84cd-aea1ffe2a443"
      }
     }
    },
    "e81901aa-a0d1-4cd3-8fcf-2872594870dd": {
     "id": "e81901aa-a0d1-4cd3-8fcf-2872594870dd",
     "prev": "69c5d3d0-0f43-4887-a902-c05941c05390",
     "regions": {
      "b98375c1-a79c-4f94-8af1-e2935ee04983": {
       "attrs": {
        "height": 0.8,
        "width": 0.8,
        "x": 0.1,
        "y": 0.1
       },
       "content": {
        "cell": "5d9bdedc-85fe-4d0c-9f04-47e9a66896a5",
        "part": "whole"
       },
       "id": "b98375c1-a79c-4f94-8af1-e2935ee04983"
      }
     }
    },
    "eaae2e29-36f2-44da-bb7c-9a121e1b5c2c": {
     "id": "eaae2e29-36f2-44da-bb7c-9a121e1b5c2c",
     "prev": null,
     "regions": {
      "d383a669-3961-4978-8460-3bd0eabb64e1": {
       "attrs": {
        "height": 0.8,
        "width": 0.8,
        "x": 0.1,
        "y": 0.1
       },
       "content": {
        "cell": "3b830f86-f329-40ff-b1a2-d855487adb20",
        "part": "whole"
       },
       "id": "d383a669-3961-4978-8460-3bd0eabb64e1"
      }
     }
    },
    "ecfd0f68-9cd8-46b4-8dd1-61b668f46eec": {
     "id": "ecfd0f68-9cd8-46b4-8dd1-61b668f46eec",
     "prev": "0dcd949d-2a21-4b7a-9065-eaf66b315283",
     "regions": {
      "9b726655-dff1-444a-977d-4fb8820e7d75": {
       "attrs": {
        "height": 0.8,
        "width": 0.8,
        "x": 0.1,
        "y": 0.1
       },
       "content": {
        "cell": "c9e4e11f-c30c-4eb4-9458-889f7e58d9aa",
        "part": "whole"
       },
       "id": "9b726655-dff1-444a-977d-4fb8820e7d75"
      }
     }
    },
    "f13e5db5-48fb-48c2-9590-239aa129a92e": {
     "id": "f13e5db5-48fb-48c2-9590-239aa129a92e",
     "prev": "8c6dd40b-858d-4471-af8c-894c41d93de2",
     "regions": {
      "b521a7d0-2f9d-440b-99a9-8c28799ac25f": {
       "attrs": {
        "height": 0.8,
        "width": 0.8,
        "x": 0.1,
        "y": 0.1
       },
       "content": {
        "cell": "ee74706a-31aa-4b45-9629-54c40d26f2cd",
        "part": "whole"
       },
       "id": "b521a7d0-2f9d-440b-99a9-8c28799ac25f"
      }
     }
    }
   },
   "themes": {}
  }
 },
 "nbformat": 4,
 "nbformat_minor": 0
}
