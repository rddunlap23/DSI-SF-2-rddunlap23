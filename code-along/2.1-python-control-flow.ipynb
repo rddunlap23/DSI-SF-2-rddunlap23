{
 "cells": [
  {
   "cell_type": "code",
   "execution_count": 6,
   "metadata": {
    "collapsed": false
   },
   "outputs": [
    {
     "name": "stdout",
     "output_type": "stream",
     "text": [
      "What is the weight of  your bag: 55\n",
      "My apologies there will be a weight surcharge for you bag\n",
      "Thank you for being a loyal customer\n"
     ]
    }
   ],
   "source": [
    "weight = float(raw_input(\"What is the weight of  your bag: \"))\n",
    "\n",
    "if weight > 50:\n",
    "    print \"My apologies there will be a weight surcharge for you bag\"\n",
    "print \"Thank you for being a loyal customer\""
   ]
  },
  {
   "cell_type": "code",
   "execution_count": null,
   "metadata": {
    "collapsed": true
   },
   "outputs": [],
   "source": []
  }
 ],
 "metadata": {
  "kernelspec": {
   "display_name": "Python [dsi]",
   "language": "python",
   "name": "Python [dsi]"
  },
  "language_info": {
   "codemirror_mode": {
    "name": "ipython",
    "version": 2
   },
   "file_extension": ".py",
   "mimetype": "text/x-python",
   "name": "python",
   "nbconvert_exporter": "python",
   "pygments_lexer": "ipython2",
   "version": "2.7.12"
  }
 },
 "nbformat": 4,
 "nbformat_minor": 0
}
