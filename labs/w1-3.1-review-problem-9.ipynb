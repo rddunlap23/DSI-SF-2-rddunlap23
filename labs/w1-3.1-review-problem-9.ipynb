{
 "cells": [
  {
   "cell_type": "markdown",
   "metadata": {},
   "source": [
    "### Review problem 9 (expert)\n",
    "\n",
    "For this problem you write a function that takes a multi-tiered dictionary of arbitrary depth. Your function will need to iterate through the dictionary, printing out the contents.\n",
    "\n",
    "Your function should:\n",
    "\n",
    "- Accept the predefined dictionary as an argument.\n",
    "- For each key:value pair, print out the key and the value:\n",
    "    - If the value is also a dictionary, do the same, printing out the key:value pair but with tabs equivalent to the current \"depth\" indicating what level we are on.\n",
    "    - Note: tab in strings is written as ```\\t```\n",
    "    \n",
    "Example:\n",
    "```python\n",
    "'key1' : 'value1'\n",
    "'key2' :\n",
    "    'key3' : 'value3'\n",
    "    'key4' : 'value4'\n",
    "    'key5' :\n",
    "        'key6': 'value6'\n",
    "'key7' : 'value7'\n",
    "```\n"
   ]
  },
  {
   "cell_type": "code",
   "execution_count": 63,
   "metadata": {
    "collapsed": true
   },
   "outputs": [],
   "source": [
    "tiered_dict = {'T1.1':'V1.1', \n",
    "               'T1.2':'V1.2',\n",
    "               'T1.3':{'T2.1':'V2.1',\n",
    "                       'T2.2':['V2.2.1','V2.2.2'],\n",
    "                       'T2.3':{'T3.1':['V3.1.1','V3.1.2'],\n",
    "                               'T3.2':'V3.2',\n",
    "                               'T3.3':'V3.3'}},\n",
    "               'T1.4':{'T2.4':{'T3.4':{'T4.1':'V4.1',\n",
    "                                       'T4.2':'V4.2'},\n",
    "                               'T3.5':{'T4.3':'V4.3'}},\n",
    "                       'T2.5':['V2.3.1','V2.3.2']},\n",
    "               }\n",
    "\n",
    "tiered_dict = {\n",
    "               'T1.4':{'T2.4':{'T3.4':{'T4.1':'V4.1',\n",
    "                                       'T4.2':'V4.2'},\n",
    "                               'T3.5':{'T4.3':'V4.3'}},\n",
    "                       'T2.5':['V2.3.1','V2.3.2']},\n",
    "               }"
   ]
  },
  {
   "cell_type": "code",
   "execution_count": 104,
   "metadata": {
    "collapsed": false
   },
   "outputs": [
    {
     "name": "stdout",
     "output_type": "stream",
     "text": [
      " {'T2.4': {'T3.5': {'T4.3': 'V4.3'}, 'T3.4': {'T4.2': 'V4.2', 'T4.1': 'V4.1'}}, 'T2.5': ['V2.3.1', 'V2.3.2']}\n",
      "\t{'T3.5': {'T4.3': 'V4.3'}, 'T3.4': {'T4.2': 'V4.2', 'T4.1': 'V4.1'}}\n",
      "\t\t{'T4.3': 'V4.3'}\n",
      "\t\t\tV4.3\n"
     ]
    },
    {
     "ename": "AttributeError",
     "evalue": "'str' object has no attribute 'items'",
     "output_type": "error",
     "traceback": [
      "\u001b[0;31m---------------------------------------------------------------------------\u001b[0m",
      "\u001b[0;31mAttributeError\u001b[0m                            Traceback (most recent call last)",
      "\u001b[0;32m<ipython-input-104-d766db1c34e9>\u001b[0m in \u001b[0;36m<module>\u001b[0;34m()\u001b[0m\n\u001b[1;32m      8\u001b[0m                 \u001b[0mlevel\u001b[0m \u001b[0;34m+=\u001b[0m \u001b[0;34m-\u001b[0m\u001b[0;36m1\u001b[0m\u001b[0;34m\u001b[0m\u001b[0m\n\u001b[1;32m      9\u001b[0m                 \u001b[0mread_dic\u001b[0m\u001b[0;34m(\u001b[0m\u001b[0mvalue\u001b[0m\u001b[0;34m)\u001b[0m\u001b[0;34m\u001b[0m\u001b[0m\n\u001b[0;32m---> 10\u001b[0;31m \u001b[0mread_dic\u001b[0m\u001b[0;34m(\u001b[0m\u001b[0mtiered_dict\u001b[0m\u001b[0;34m,\u001b[0m\u001b[0;36m0\u001b[0m\u001b[0;34m)\u001b[0m\u001b[0;34m\u001b[0m\u001b[0m\n\u001b[0m",
      "\u001b[0;32m<ipython-input-104-d766db1c34e9>\u001b[0m in \u001b[0;36mread_dic\u001b[0;34m(tiered_dict, level)\u001b[0m\n\u001b[1;32m      4\u001b[0m             \u001b[0;32mprint\u001b[0m \u001b[0mlevel\u001b[0m \u001b[0;34m*\u001b[0m \u001b[0;34m'\\t'\u001b[0m\u001b[0;34m,\u001b[0m \u001b[0mvalue\u001b[0m\u001b[0;34m\u001b[0m\u001b[0m\n\u001b[1;32m      5\u001b[0m             \u001b[0;32mif\u001b[0m \u001b[0misinstance\u001b[0m\u001b[0;34m(\u001b[0m\u001b[0mvalue\u001b[0m\u001b[0;34m,\u001b[0m\u001b[0mdict\u001b[0m\u001b[0;34m)\u001b[0m\u001b[0;34m:\u001b[0m\u001b[0;34m\u001b[0m\u001b[0m\n\u001b[0;32m----> 6\u001b[0;31m                 \u001b[0mread_dic\u001b[0m\u001b[0;34m(\u001b[0m\u001b[0mvalue\u001b[0m\u001b[0;34m,\u001b[0m\u001b[0mlevel\u001b[0m \u001b[0;34m+\u001b[0m \u001b[0;36m1\u001b[0m\u001b[0;34m)\u001b[0m\u001b[0;34m\u001b[0m\u001b[0m\n\u001b[0m\u001b[1;32m      7\u001b[0m             \u001b[0;32melse\u001b[0m\u001b[0;34m:\u001b[0m\u001b[0;34m\u001b[0m\u001b[0m\n\u001b[1;32m      8\u001b[0m                 \u001b[0mlevel\u001b[0m \u001b[0;34m+=\u001b[0m \u001b[0;34m-\u001b[0m\u001b[0;36m1\u001b[0m\u001b[0;34m\u001b[0m\u001b[0m\n",
      "\u001b[0;32m<ipython-input-104-d766db1c34e9>\u001b[0m in \u001b[0;36mread_dic\u001b[0;34m(tiered_dict, level)\u001b[0m\n\u001b[1;32m      4\u001b[0m             \u001b[0;32mprint\u001b[0m \u001b[0mlevel\u001b[0m \u001b[0;34m*\u001b[0m \u001b[0;34m'\\t'\u001b[0m\u001b[0;34m,\u001b[0m \u001b[0mvalue\u001b[0m\u001b[0;34m\u001b[0m\u001b[0m\n\u001b[1;32m      5\u001b[0m             \u001b[0;32mif\u001b[0m \u001b[0misinstance\u001b[0m\u001b[0;34m(\u001b[0m\u001b[0mvalue\u001b[0m\u001b[0;34m,\u001b[0m\u001b[0mdict\u001b[0m\u001b[0;34m)\u001b[0m\u001b[0;34m:\u001b[0m\u001b[0;34m\u001b[0m\u001b[0m\n\u001b[0;32m----> 6\u001b[0;31m                 \u001b[0mread_dic\u001b[0m\u001b[0;34m(\u001b[0m\u001b[0mvalue\u001b[0m\u001b[0;34m,\u001b[0m\u001b[0mlevel\u001b[0m \u001b[0;34m+\u001b[0m \u001b[0;36m1\u001b[0m\u001b[0;34m)\u001b[0m\u001b[0;34m\u001b[0m\u001b[0m\n\u001b[0m\u001b[1;32m      7\u001b[0m             \u001b[0;32melse\u001b[0m\u001b[0;34m:\u001b[0m\u001b[0;34m\u001b[0m\u001b[0m\n\u001b[1;32m      8\u001b[0m                 \u001b[0mlevel\u001b[0m \u001b[0;34m+=\u001b[0m \u001b[0;34m-\u001b[0m\u001b[0;36m1\u001b[0m\u001b[0;34m\u001b[0m\u001b[0m\n",
      "\u001b[0;32m<ipython-input-104-d766db1c34e9>\u001b[0m in \u001b[0;36mread_dic\u001b[0;34m(tiered_dict, level)\u001b[0m\n\u001b[1;32m      4\u001b[0m             \u001b[0;32mprint\u001b[0m \u001b[0mlevel\u001b[0m \u001b[0;34m*\u001b[0m \u001b[0;34m'\\t'\u001b[0m\u001b[0;34m,\u001b[0m \u001b[0mvalue\u001b[0m\u001b[0;34m\u001b[0m\u001b[0m\n\u001b[1;32m      5\u001b[0m             \u001b[0;32mif\u001b[0m \u001b[0misinstance\u001b[0m\u001b[0;34m(\u001b[0m\u001b[0mvalue\u001b[0m\u001b[0;34m,\u001b[0m\u001b[0mdict\u001b[0m\u001b[0;34m)\u001b[0m\u001b[0;34m:\u001b[0m\u001b[0;34m\u001b[0m\u001b[0m\n\u001b[0;32m----> 6\u001b[0;31m                 \u001b[0mread_dic\u001b[0m\u001b[0;34m(\u001b[0m\u001b[0mvalue\u001b[0m\u001b[0;34m,\u001b[0m\u001b[0mlevel\u001b[0m \u001b[0;34m+\u001b[0m \u001b[0;36m1\u001b[0m\u001b[0;34m)\u001b[0m\u001b[0;34m\u001b[0m\u001b[0m\n\u001b[0m\u001b[1;32m      7\u001b[0m             \u001b[0;32melse\u001b[0m\u001b[0;34m:\u001b[0m\u001b[0;34m\u001b[0m\u001b[0m\n\u001b[1;32m      8\u001b[0m                 \u001b[0mlevel\u001b[0m \u001b[0;34m+=\u001b[0m \u001b[0;34m-\u001b[0m\u001b[0;36m1\u001b[0m\u001b[0;34m\u001b[0m\u001b[0m\n",
      "\u001b[0;32m<ipython-input-104-d766db1c34e9>\u001b[0m in \u001b[0;36mread_dic\u001b[0;34m(tiered_dict, level)\u001b[0m\n\u001b[1;32m      7\u001b[0m             \u001b[0;32melse\u001b[0m\u001b[0;34m:\u001b[0m\u001b[0;34m\u001b[0m\u001b[0m\n\u001b[1;32m      8\u001b[0m                 \u001b[0mlevel\u001b[0m \u001b[0;34m+=\u001b[0m \u001b[0;34m-\u001b[0m\u001b[0;36m1\u001b[0m\u001b[0;34m\u001b[0m\u001b[0m\n\u001b[0;32m----> 9\u001b[0;31m                 \u001b[0mread_dic\u001b[0m\u001b[0;34m(\u001b[0m\u001b[0mvalue\u001b[0m\u001b[0;34m)\u001b[0m\u001b[0;34m\u001b[0m\u001b[0m\n\u001b[0m\u001b[1;32m     10\u001b[0m \u001b[0mread_dic\u001b[0m\u001b[0;34m(\u001b[0m\u001b[0mtiered_dict\u001b[0m\u001b[0;34m,\u001b[0m\u001b[0;36m0\u001b[0m\u001b[0;34m)\u001b[0m\u001b[0;34m\u001b[0m\u001b[0m\n",
      "\u001b[0;32m<ipython-input-104-d766db1c34e9>\u001b[0m in \u001b[0;36mread_dic\u001b[0;34m(tiered_dict, level)\u001b[0m\n\u001b[1;32m      1\u001b[0m \u001b[0;31m# Write your function here:\u001b[0m\u001b[0;34m\u001b[0m\u001b[0;34m\u001b[0m\u001b[0m\n\u001b[1;32m      2\u001b[0m \u001b[0;32mdef\u001b[0m \u001b[0mread_dic\u001b[0m\u001b[0;34m(\u001b[0m\u001b[0mtiered_dict\u001b[0m\u001b[0;34m,\u001b[0m\u001b[0mlevel\u001b[0m\u001b[0;34m=\u001b[0m\u001b[0;36m0\u001b[0m\u001b[0;34m)\u001b[0m\u001b[0;34m:\u001b[0m\u001b[0;34m\u001b[0m\u001b[0m\n\u001b[0;32m----> 3\u001b[0;31m         \u001b[0;32mfor\u001b[0m \u001b[0mkey\u001b[0m\u001b[0;34m,\u001b[0m \u001b[0mvalue\u001b[0m \u001b[0;32min\u001b[0m \u001b[0mtiered_dict\u001b[0m\u001b[0;34m.\u001b[0m\u001b[0mitems\u001b[0m\u001b[0;34m(\u001b[0m\u001b[0;34m)\u001b[0m\u001b[0;34m:\u001b[0m\u001b[0;34m\u001b[0m\u001b[0m\n\u001b[0m\u001b[1;32m      4\u001b[0m             \u001b[0;32mprint\u001b[0m \u001b[0mlevel\u001b[0m \u001b[0;34m*\u001b[0m \u001b[0;34m'\\t'\u001b[0m\u001b[0;34m,\u001b[0m \u001b[0mvalue\u001b[0m\u001b[0;34m\u001b[0m\u001b[0m\n\u001b[1;32m      5\u001b[0m             \u001b[0;32mif\u001b[0m \u001b[0misinstance\u001b[0m\u001b[0;34m(\u001b[0m\u001b[0mvalue\u001b[0m\u001b[0;34m,\u001b[0m\u001b[0mdict\u001b[0m\u001b[0;34m)\u001b[0m\u001b[0;34m:\u001b[0m\u001b[0;34m\u001b[0m\u001b[0m\n",
      "\u001b[0;31mAttributeError\u001b[0m: 'str' object has no attribute 'items'"
     ]
    }
   ],
   "source": [
    "# Write your function here:\n",
    "def read_dic(tiered_dict,level=0):\n",
    "        for key, value in tiered_dict.items():\n",
    "            print level * '\\t', value\n",
    "            if isinstance(value,dict):\n",
    "                read_dic(value,level + 1)\n",
    "            else:\n",
    "                level += -1\n",
    "                read_dic(value)\n",
    "read_dic(tiered_dict,0)"
   ]
  },
  {
   "cell_type": "code",
   "execution_count": 70,
   "metadata": {
    "collapsed": false
   },
   "outputs": [
    {
     "name": "stdout",
     "output_type": "stream",
     "text": [
      "T1.4 : {'T2.4': {'T3.5': {'T4.3': 'V4.3'}, 'T3.4': {'T4.2': 'V4.2', 'T4.1': 'V4.1'}}, 'T2.5': ['V2.3.1', 'V2.3.2']}\n",
      "<type 'dict'>\n",
      "xT2.4 : {'T3.5': {'T4.3': 'V4.3'}, 'T3.4': {'T4.2': 'V4.2', 'T4.1': 'V4.1'}}\n",
      "<type 'dict'>\n",
      "xT3.5 : {'T4.3': 'V4.3'}\n",
      "<type 'dict'>\n",
      "xT4.3 : V4.3\n",
      "<type 'str'>\n",
      "xT3.4 : {'T4.2': 'V4.2', 'T4.1': 'V4.1'}\n",
      "<type 'dict'>\n",
      "xxT4.2 : V4.2\n",
      "<type 'str'>\n",
      "T4.1 : V4.1\n",
      "<type 'str'>\n",
      "xT2.5 : ['V2.3.1', 'V2.3.2']\n",
      "<type 'list'>\n"
     ]
    }
   ],
   "source": []
  },
  {
   "cell_type": "code",
   "execution_count": 50,
   "metadata": {
    "collapsed": false
   },
   "outputs": [
    {
     "name": "stdout",
     "output_type": "stream",
     "text": [
      "/t/t\n"
     ]
    }
   ],
   "source": [
    "string = '/t'\n",
    "level = 2\n",
    "print level * string"
   ]
  },
  {
   "cell_type": "code",
   "execution_count": null,
   "metadata": {
    "collapsed": true
   },
   "outputs": [],
   "source": []
  }
 ],
 "metadata": {
  "anaconda-cloud": {},
  "kernelspec": {
   "display_name": "Python [dsi]",
   "language": "python",
   "name": "Python [dsi]"
  },
  "language_info": {
   "codemirror_mode": {
    "name": "ipython",
    "version": 2
   },
   "file_extension": ".py",
   "mimetype": "text/x-python",
   "name": "python",
   "nbconvert_exporter": "python",
   "pygments_lexer": "ipython2",
   "version": "2.7.12"
  }
 },
 "nbformat": 4,
 "nbformat_minor": 0
}
