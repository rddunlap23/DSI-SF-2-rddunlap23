{
 "cells": [
  {
   "cell_type": "code",
   "execution_count": 2,
   "metadata": {
    "collapsed": true
   },
   "outputs": [],
   "source": [
    "import pandas as pd\n",
    "import numpy as np"
   ]
  },
  {
   "cell_type": "code",
   "execution_count": 33,
   "metadata": {
    "collapsed": false,
    "scrolled": true
   },
   "outputs": [],
   "source": [
    "csv_path = \"/Users/ryandunlap/Desktop/DSI-SF-2/datasets/sales_data_simple/sales.csv\"\n",
    "df = pd.read_csv(csv_path)"
   ]
  },
  {
   "cell_type": "code",
   "execution_count": 34,
   "metadata": {
    "collapsed": false
   },
   "outputs": [
    {
     "name": "stdout",
     "output_type": "stream",
     "text": [
      "<class 'pandas.core.frame.DataFrame'>\n",
      "RangeIndex: 200 entries, 0 to 199\n",
      "Data columns (total 4 columns):\n",
      "volume_sold      200 non-null float64\n",
      "2015_margin      200 non-null float64\n",
      "2015_q1_sales    200 non-null float64\n",
      "2016_q1_sales    200 non-null float64\n",
      "dtypes: float64(4)\n",
      "memory usage: 6.3 KB\n"
     ]
    }
   ],
   "source": [
    "df.info()"
   ]
  },
  {
   "cell_type": "code",
   "execution_count": 35,
   "metadata": {
    "collapsed": false
   },
   "outputs": [
    {
     "name": "stdout",
     "output_type": "stream",
     "text": [
      "0    18.420760\n",
      "1     4.776510\n",
      "2    16.602401\n",
      "3     4.296111\n",
      "4     8.156023\n",
      "Name: volume_sold, dtype: float64\n",
      "0    19.420760\n",
      "1     5.776510\n",
      "2    17.602401\n",
      "3     5.296111\n",
      "4     9.156023\n",
      "Name: volume_sold, dtype: float64\n"
     ]
    }
   ],
   "source": [
    "add_one = lambda x: x + 1\n",
    "\n",
    "df['volume_sold'] = df.apply(add_one,axis=0)['volume_sold']"
   ]
  },
  {
   "cell_type": "code",
   "execution_count": 40,
   "metadata": {
    "collapsed": false
   },
   "outputs": [
    {
     "data": {
      "text/plain": [
       "32.732539     1\n",
       "36.282033     1\n",
       "33.417852     1\n",
       "25.595019     1\n",
       "22.948176     1\n",
       "14.251810     1\n",
       "39.530065     1\n",
       "30.903842     1\n",
       "46.299260     1\n",
       "35.887044     1\n",
       "45.598653     1\n",
       "20.000646     1\n",
       "24.476655     1\n",
       "36.715759     1\n",
       "35.087835     1\n",
       "64.743906     1\n",
       "16.043269     1\n",
       "33.602314     1\n",
       "34.222954     1\n",
       "44.345418     1\n",
       "41.547078     1\n",
       "52.187977     1\n",
       "26.935335     1\n",
       "11.996118     1\n",
       "47.989370     1\n",
       "45.872212     1\n",
       "225.055138    1\n",
       "41.017119     1\n",
       "31.292393     1\n",
       "19.568317     1\n",
       "             ..\n",
       "51.491646     1\n",
       "49.181634     1\n",
       "19.337345     1\n",
       "21.156300     1\n",
       "58.940439     1\n",
       "46.700709     1\n",
       "268.869600    1\n",
       "46.217509     1\n",
       "233.533189    1\n",
       "23.161451     1\n",
       "48.844372     1\n",
       "22.888219     1\n",
       "44.534832     1\n",
       "43.808956     1\n",
       "21.811659     1\n",
       "37.156932     1\n",
       "23.823065     1\n",
       "76.518973     1\n",
       "32.623592     1\n",
       "40.974879     1\n",
       "36.408528     1\n",
       "40.009303     1\n",
       "35.222361     1\n",
       "25.766675     1\n",
       "42.031199     1\n",
       "43.444194     1\n",
       "39.752970     1\n",
       "20.051366     1\n",
       "105.035207    1\n",
       "34.760422     1\n",
       "Name: 2015_margin, dtype: int64"
      ]
     },
     "execution_count": 40,
     "metadata": {},
     "output_type": "execute_result"
    }
   ],
   "source": [
    "df.head()\n",
    "df['2015_margin'].value_counts()"
   ]
  },
  {
   "cell_type": "code",
   "execution_count": null,
   "metadata": {
    "collapsed": true
   },
   "outputs": [],
   "source": []
  }
 ],
 "metadata": {
  "anaconda-cloud": {},
  "kernelspec": {
   "display_name": "Python [dsi]",
   "language": "python",
   "name": "Python [dsi]"
  },
  "language_info": {
   "codemirror_mode": {
    "name": "ipython",
    "version": 2
   },
   "file_extension": ".py",
   "mimetype": "text/x-python",
   "name": "python",
   "nbconvert_exporter": "python",
   "pygments_lexer": "ipython2",
   "version": "2.7.12"
  }
 },
 "nbformat": 4,
 "nbformat_minor": 0
}
