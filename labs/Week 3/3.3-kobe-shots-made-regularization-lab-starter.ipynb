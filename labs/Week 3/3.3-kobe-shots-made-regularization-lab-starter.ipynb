{
 "cells": [
  {
   "cell_type": "markdown",
   "metadata": {},
   "source": [
    "# Predicting shots made per game by Kobe Bryant\n",
    "\n",
    "In this lab you'll be using regularization techniques Ridge, Lasso, and Elastic Net to try and predict well how many shots Kobe Bryant made per game in his career.\n",
    "\n",
    "---\n",
    "\n",
    "### 1. Load packages and data"
   ]
  },
  {
   "cell_type": "code",
   "execution_count": 44,
   "metadata": {
    "collapsed": true
   },
   "outputs": [],
   "source": [
    "import numpy as np\n",
    "import pandas as pd\n",
    "import patsy\n",
    "\n",
    "from sklearn.linear_model import Ridge, Lasso, ElasticNet, LinearRegression, RidgeCV, LassoCV, ElasticNetCV\n",
    "from sklearn.cross_validation import cross_val_score\n",
    "\n",
    "import matplotlib\n",
    "import matplotlib.pyplot as plt\n",
    "import seaborn as sns\n",
    "plt.style.use('fivethirtyeight')\n",
    "\n",
    "from sklearn.preprocessing import MinMaxScaler, StandardScaler\n",
    "\n",
    "%config InlineBackend.figure_format = 'retina'\n",
    "%matplotlib inline"
   ]
  },
  {
   "cell_type": "code",
   "execution_count": 38,
   "metadata": {
    "collapsed": true
   },
   "outputs": [],
   "source": [
    "kobe = pd.read_csv('/Users/ryandunlap/Desktop/DSI-SF-2/datasets/kobe_bryant/kobe_superwide_games.csv')"
   ]
  },
  {
   "cell_type": "markdown",
   "metadata": {},
   "source": [
    "---\n",
    "\n",
    "### 2. Examine the data\n",
    "\n",
    "- How many columns are there?\n",
    "- Infer what the observations (rows) and columns represent.\n",
    "- Why is this data that regularization might be particularly useful for?"
   ]
  },
  {
   "cell_type": "code",
   "execution_count": 39,
   "metadata": {
    "collapsed": false
   },
   "outputs": [
    {
     "name": "stdout",
     "output_type": "stream",
     "text": [
      "Index([u'SHOTS_MADE', u'AWAY_GAME', u'SEASON_OPPONENT:atl:1996-97',\n",
      "       u'SEASON_OPPONENT:atl:1997-98', u'SEASON_OPPONENT:atl:1999-00',\n",
      "       u'SEASON_OPPONENT:atl:2000-01', u'SEASON_OPPONENT:atl:2001-02',\n",
      "       u'SEASON_OPPONENT:atl:2002-03', u'SEASON_OPPONENT:atl:2003-04',\n",
      "       u'SEASON_OPPONENT:atl:2004-05',\n",
      "       ...\n",
      "       u'ACTION_TYPE:tip_layup_shot', u'ACTION_TYPE:tip_shot',\n",
      "       u'ACTION_TYPE:turnaround_bank_shot',\n",
      "       u'ACTION_TYPE:turnaround_fadeaway_bank_jump_shot',\n",
      "       u'ACTION_TYPE:turnaround_fadeaway_shot',\n",
      "       u'ACTION_TYPE:turnaround_finger_roll_shot',\n",
      "       u'ACTION_TYPE:turnaround_hook_shot',\n",
      "       u'ACTION_TYPE:turnaround_jump_shot', u'SEASON_GAME_NUMBER',\n",
      "       u'CAREER_GAME_NUMBER'],\n",
      "      dtype='object', length=645)\n"
     ]
    }
   ],
   "source": [
    "#Rows are the games\n",
    "#Columns include all teams:year and shot types...\n",
    "kobe.head()\n",
    "print kobe.columns"
   ]
  },
  {
   "cell_type": "markdown",
   "metadata": {},
   "source": [
    "---\n",
    "\n",
    "### Make predictor and target variables. Normalize the predictors.\n",
    "\n",
    "Why is normalization necessary for regularized regressions?\n",
    "\n",
    "There is a class in sklearn.preprocessing called `StandardScaler`. Look it up and figure out how to use it to normalize your predictor matrix. "
   ]
  },
  {
   "cell_type": "code",
   "execution_count": 48,
   "metadata": {
    "collapsed": false
   },
   "outputs": [
    {
     "data": {
      "text/html": [
       "<div>\n",
       "<table border=\"1\" class=\"dataframe\">\n",
       "  <thead>\n",
       "    <tr style=\"text-align: right;\">\n",
       "      <th></th>\n",
       "      <th>AWAY_GAME</th>\n",
       "      <th>SEASON_OPPONENT:atl:1996-97</th>\n",
       "      <th>SEASON_OPPONENT:atl:1997-98</th>\n",
       "      <th>SEASON_OPPONENT:atl:1999-00</th>\n",
       "      <th>SEASON_OPPONENT:atl:2000-01</th>\n",
       "      <th>SEASON_OPPONENT:atl:2001-02</th>\n",
       "      <th>SEASON_OPPONENT:atl:2002-03</th>\n",
       "      <th>SEASON_OPPONENT:atl:2003-04</th>\n",
       "      <th>SEASON_OPPONENT:atl:2004-05</th>\n",
       "      <th>SEASON_OPPONENT:atl:2005-06</th>\n",
       "      <th>...</th>\n",
       "      <th>ACTION_TYPE:tip_layup_shot</th>\n",
       "      <th>ACTION_TYPE:tip_shot</th>\n",
       "      <th>ACTION_TYPE:turnaround_bank_shot</th>\n",
       "      <th>ACTION_TYPE:turnaround_fadeaway_bank_jump_shot</th>\n",
       "      <th>ACTION_TYPE:turnaround_fadeaway_shot</th>\n",
       "      <th>ACTION_TYPE:turnaround_finger_roll_shot</th>\n",
       "      <th>ACTION_TYPE:turnaround_hook_shot</th>\n",
       "      <th>ACTION_TYPE:turnaround_jump_shot</th>\n",
       "      <th>SEASON_GAME_NUMBER</th>\n",
       "      <th>CAREER_GAME_NUMBER</th>\n",
       "    </tr>\n",
       "  </thead>\n",
       "  <tbody>\n",
       "    <tr>\n",
       "      <th>0</th>\n",
       "      <td>-1.001285</td>\n",
       "      <td>-0.035852</td>\n",
       "      <td>-0.035852</td>\n",
       "      <td>-0.025343</td>\n",
       "      <td>-0.025343</td>\n",
       "      <td>-0.035852</td>\n",
       "      <td>-0.035852</td>\n",
       "      <td>-0.025343</td>\n",
       "      <td>-0.025343</td>\n",
       "      <td>-0.035852</td>\n",
       "      <td>...</td>\n",
       "      <td>-0.035852</td>\n",
       "      <td>-0.281806</td>\n",
       "      <td>-0.183922</td>\n",
       "      <td>-0.025343</td>\n",
       "      <td>-0.342591</td>\n",
       "      <td>-0.035746</td>\n",
       "      <td>-0.088428</td>\n",
       "      <td>-0.643218</td>\n",
       "      <td>-1.610867</td>\n",
       "      <td>-1.733044</td>\n",
       "    </tr>\n",
       "    <tr>\n",
       "      <th>1</th>\n",
       "      <td>0.998717</td>\n",
       "      <td>-0.035852</td>\n",
       "      <td>-0.035852</td>\n",
       "      <td>-0.025343</td>\n",
       "      <td>-0.025343</td>\n",
       "      <td>-0.035852</td>\n",
       "      <td>-0.035852</td>\n",
       "      <td>-0.025343</td>\n",
       "      <td>-0.025343</td>\n",
       "      <td>-0.035852</td>\n",
       "      <td>...</td>\n",
       "      <td>-0.035852</td>\n",
       "      <td>-0.281806</td>\n",
       "      <td>-0.183922</td>\n",
       "      <td>-0.025343</td>\n",
       "      <td>-0.342591</td>\n",
       "      <td>-0.035746</td>\n",
       "      <td>-0.088428</td>\n",
       "      <td>-0.643218</td>\n",
       "      <td>-1.572464</td>\n",
       "      <td>-1.730821</td>\n",
       "    </tr>\n",
       "    <tr>\n",
       "      <th>2</th>\n",
       "      <td>0.998717</td>\n",
       "      <td>-0.035852</td>\n",
       "      <td>-0.035852</td>\n",
       "      <td>-0.025343</td>\n",
       "      <td>-0.025343</td>\n",
       "      <td>-0.035852</td>\n",
       "      <td>-0.035852</td>\n",
       "      <td>-0.025343</td>\n",
       "      <td>-0.025343</td>\n",
       "      <td>-0.035852</td>\n",
       "      <td>...</td>\n",
       "      <td>-0.035852</td>\n",
       "      <td>-0.281806</td>\n",
       "      <td>-0.183922</td>\n",
       "      <td>-0.025343</td>\n",
       "      <td>-0.342591</td>\n",
       "      <td>-0.035746</td>\n",
       "      <td>-0.088428</td>\n",
       "      <td>-0.643218</td>\n",
       "      <td>-1.534062</td>\n",
       "      <td>-1.728597</td>\n",
       "    </tr>\n",
       "    <tr>\n",
       "      <th>3</th>\n",
       "      <td>0.998717</td>\n",
       "      <td>-0.035852</td>\n",
       "      <td>-0.035852</td>\n",
       "      <td>-0.025343</td>\n",
       "      <td>-0.025343</td>\n",
       "      <td>-0.035852</td>\n",
       "      <td>-0.035852</td>\n",
       "      <td>-0.025343</td>\n",
       "      <td>-0.025343</td>\n",
       "      <td>-0.035852</td>\n",
       "      <td>...</td>\n",
       "      <td>-0.035852</td>\n",
       "      <td>-0.281806</td>\n",
       "      <td>-0.183922</td>\n",
       "      <td>-0.025343</td>\n",
       "      <td>-0.342591</td>\n",
       "      <td>-0.035746</td>\n",
       "      <td>-0.088428</td>\n",
       "      <td>-0.643218</td>\n",
       "      <td>-1.495659</td>\n",
       "      <td>-1.726374</td>\n",
       "    </tr>\n",
       "    <tr>\n",
       "      <th>4</th>\n",
       "      <td>-1.001285</td>\n",
       "      <td>27.892651</td>\n",
       "      <td>-0.035852</td>\n",
       "      <td>-0.025343</td>\n",
       "      <td>-0.025343</td>\n",
       "      <td>-0.035852</td>\n",
       "      <td>-0.035852</td>\n",
       "      <td>-0.025343</td>\n",
       "      <td>-0.025343</td>\n",
       "      <td>-0.035852</td>\n",
       "      <td>...</td>\n",
       "      <td>-0.035852</td>\n",
       "      <td>-0.281806</td>\n",
       "      <td>-0.183922</td>\n",
       "      <td>-0.025343</td>\n",
       "      <td>-0.342591</td>\n",
       "      <td>-0.035746</td>\n",
       "      <td>-0.088428</td>\n",
       "      <td>-0.643218</td>\n",
       "      <td>-1.457256</td>\n",
       "      <td>-1.724151</td>\n",
       "    </tr>\n",
       "  </tbody>\n",
       "</table>\n",
       "<p>5 rows × 644 columns</p>\n",
       "</div>"
      ],
      "text/plain": [
       "   AWAY_GAME  SEASON_OPPONENT:atl:1996-97  SEASON_OPPONENT:atl:1997-98  \\\n",
       "0  -1.001285                    -0.035852                    -0.035852   \n",
       "1   0.998717                    -0.035852                    -0.035852   \n",
       "2   0.998717                    -0.035852                    -0.035852   \n",
       "3   0.998717                    -0.035852                    -0.035852   \n",
       "4  -1.001285                    27.892651                    -0.035852   \n",
       "\n",
       "   SEASON_OPPONENT:atl:1999-00  SEASON_OPPONENT:atl:2000-01  \\\n",
       "0                    -0.025343                    -0.025343   \n",
       "1                    -0.025343                    -0.025343   \n",
       "2                    -0.025343                    -0.025343   \n",
       "3                    -0.025343                    -0.025343   \n",
       "4                    -0.025343                    -0.025343   \n",
       "\n",
       "   SEASON_OPPONENT:atl:2001-02  SEASON_OPPONENT:atl:2002-03  \\\n",
       "0                    -0.035852                    -0.035852   \n",
       "1                    -0.035852                    -0.035852   \n",
       "2                    -0.035852                    -0.035852   \n",
       "3                    -0.035852                    -0.035852   \n",
       "4                    -0.035852                    -0.035852   \n",
       "\n",
       "   SEASON_OPPONENT:atl:2003-04  SEASON_OPPONENT:atl:2004-05  \\\n",
       "0                    -0.025343                    -0.025343   \n",
       "1                    -0.025343                    -0.025343   \n",
       "2                    -0.025343                    -0.025343   \n",
       "3                    -0.025343                    -0.025343   \n",
       "4                    -0.025343                    -0.025343   \n",
       "\n",
       "   SEASON_OPPONENT:atl:2005-06         ...          \\\n",
       "0                    -0.035852         ...           \n",
       "1                    -0.035852         ...           \n",
       "2                    -0.035852         ...           \n",
       "3                    -0.035852         ...           \n",
       "4                    -0.035852         ...           \n",
       "\n",
       "   ACTION_TYPE:tip_layup_shot  ACTION_TYPE:tip_shot  \\\n",
       "0                   -0.035852             -0.281806   \n",
       "1                   -0.035852             -0.281806   \n",
       "2                   -0.035852             -0.281806   \n",
       "3                   -0.035852             -0.281806   \n",
       "4                   -0.035852             -0.281806   \n",
       "\n",
       "   ACTION_TYPE:turnaround_bank_shot  \\\n",
       "0                         -0.183922   \n",
       "1                         -0.183922   \n",
       "2                         -0.183922   \n",
       "3                         -0.183922   \n",
       "4                         -0.183922   \n",
       "\n",
       "   ACTION_TYPE:turnaround_fadeaway_bank_jump_shot  \\\n",
       "0                                       -0.025343   \n",
       "1                                       -0.025343   \n",
       "2                                       -0.025343   \n",
       "3                                       -0.025343   \n",
       "4                                       -0.025343   \n",
       "\n",
       "   ACTION_TYPE:turnaround_fadeaway_shot  \\\n",
       "0                             -0.342591   \n",
       "1                             -0.342591   \n",
       "2                             -0.342591   \n",
       "3                             -0.342591   \n",
       "4                             -0.342591   \n",
       "\n",
       "   ACTION_TYPE:turnaround_finger_roll_shot  ACTION_TYPE:turnaround_hook_shot  \\\n",
       "0                                -0.035746                         -0.088428   \n",
       "1                                -0.035746                         -0.088428   \n",
       "2                                -0.035746                         -0.088428   \n",
       "3                                -0.035746                         -0.088428   \n",
       "4                                -0.035746                         -0.088428   \n",
       "\n",
       "   ACTION_TYPE:turnaround_jump_shot  SEASON_GAME_NUMBER  CAREER_GAME_NUMBER  \n",
       "0                         -0.643218           -1.610867           -1.733044  \n",
       "1                         -0.643218           -1.572464           -1.730821  \n",
       "2                         -0.643218           -1.534062           -1.728597  \n",
       "3                         -0.643218           -1.495659           -1.726374  \n",
       "4                         -0.643218           -1.457256           -1.724151  \n",
       "\n",
       "[5 rows x 644 columns]"
      ]
     },
     "execution_count": 48,
     "metadata": {},
     "output_type": "execute_result"
    }
   ],
   "source": [
    "y = kobe['SHOTS_MADE']\n",
    "cols = [x for x in kobe.columns if x!= 'SHOTS_MADE']\n",
    "\n",
    "X_raw = kobe.loc[:,cols]\n",
    "\n",
    "scaler = StandardScaler()\n",
    "scaled_data = scaler.fit_transform(X_raw)\n",
    "X_stand = pd.DataFrame(scaled_data, columns=[cols])\n",
    "\n",
    "X_stand.head()"
   ]
  },
  {
   "cell_type": "markdown",
   "metadata": {},
   "source": [
    "---\n",
    "\n",
    "### Build a linear regression predicting `SHOTS_MADE` from the rest of the columns.\n",
    "\n",
    "Cross-validate the $R^2$ of a linear regression model with 10 cross-validation folds.\n",
    "\n",
    "How does it perform?"
   ]
  },
  {
   "cell_type": "code",
   "execution_count": 49,
   "metadata": {
    "collapsed": false
   },
   "outputs": [
    {
     "data": {
      "text/plain": [
       "array([ -8.25243667e+28,  -2.63331405e+27,  -2.89603499e+28,\n",
       "        -3.98953019e+27,  -1.27962923e+28,  -1.00353712e+28,\n",
       "        -4.64132550e+27,  -9.68379957e+27,  -7.66818584e+27,\n",
       "        -3.76696784e+28])"
      ]
     },
     "execution_count": 49,
     "metadata": {},
     "output_type": "execute_result"
    }
   ],
   "source": [
    "lm = LinearRegression()\n",
    "\n",
    "scores = cross_val_score(lm, X_stand, y, cv = 10)\n",
    "#It performs shitty! "
   ]
  },
  {
   "cell_type": "markdown",
   "metadata": {},
   "source": [
    "---\n",
    "\n",
    "### Find an optimal value for Ridge regression alpha using RidgeCV\n",
    "\n",
    "[Go to the documentation and read how RidgeCV works.](http://scikit-learn.org/stable/modules/generated/sklearn.linear_model.RidgeCV.html)\n",
    "\n",
    "Hint: once the RidgeCV is fit, the attribute `.alpha_` contains the best alpha parameter it found through cross-validation.\n",
    "\n",
    "Recall that Ridge performs best searching alphas through logarithmic space (`np.logspace`).\n"
   ]
  },
  {
   "cell_type": "code",
   "execution_count": 68,
   "metadata": {
    "collapsed": false
   },
   "outputs": [
    {
     "name": "stdout",
     "output_type": "stream",
     "text": [
      "1000.0\n",
      "0.771842520583\n"
     ]
    }
   ],
   "source": [
    "rlm = RidgeCV(alphas = (np.logspace(-6,6,num=13)), cv=10, fit_intercept=True, normalize=False)\n",
    "\n",
    "new_model = rlm.fit(X_stand,y)\n",
    "new_predictions = rlm.predict(X)\n",
    "new_score = rlm.score(X_stand,y)\n",
    "\n",
    "print new_model.alpha_\n",
    "#print new_model.coef_\n",
    "#print new_model.intercept_\n",
    "print new_score"
   ]
  },
  {
   "cell_type": "markdown",
   "metadata": {},
   "source": [
    "---\n",
    "\n",
    "### Cross-validate the Ridge $R^2$ with the optimal alpha.\n",
    "\n",
    "Is it better than the Linear regression? If so, why would this be?"
   ]
  },
  {
   "cell_type": "code",
   "execution_count": null,
   "metadata": {
    "collapsed": false
   },
   "outputs": [],
   "source": []
  },
  {
   "cell_type": "markdown",
   "metadata": {},
   "source": [
    "---\n",
    "\n",
    "### Find an optimal value for Lasso regression alpha using LassoCV\n",
    "\n",
    "[Go to the documentation and read how LassoCV works.](http://scikit-learn.org/stable/modules/generated/sklearn.linear_model.LassoCV.html) It is very similar to RidgeCV.\n",
    "\n",
    "Hint: again, once the LassoCV is fit, the attribute `.alpha_` contains the best alpha parameter it found through cross-validation.\n",
    "\n",
    "Recall that Lasso, unlike Ridge, performs best searching alphas through linear space (`np.linspace`). However, you can actually let the LassoCV decide itself what alphas to use by instead setting the keyword argument `n_alphas=` to however many alphas you want it to search over."
   ]
  },
  {
   "cell_type": "code",
   "execution_count": 73,
   "metadata": {
    "collapsed": false
   },
   "outputs": [
    {
     "name": "stdout",
     "output_type": "stream",
     "text": [
      "0.742340716866\n",
      "0.0464158883361\n"
     ]
    }
   ],
   "source": [
    "rlm2 = LassoCV(alphas = (np.logspace(-2,6,num=13)), cv=10)\n",
    "\n",
    "new_model = rlm2.fit(X_stand,y)\n",
    "new_predictions = rlm2.predict(X)\n",
    "new_score = rlm2.score(X_stand,y)\n",
    "\n",
    "print new_score\n",
    "print new_model.alpha_"
   ]
  },
  {
   "cell_type": "markdown",
   "metadata": {},
   "source": [
    "---\n",
    "\n",
    "### Cross-validate the Lasso $R^2$ with the optimal alpha.\n",
    "\n",
    "Is it better than the Linear regression? Is it better than Ridge? For each, why would this be?\n",
    "\n",
    "Depending on which $R^2$ is better between the Ridge and Lasso, what can you infer about the primary issue in the data?"
   ]
  },
  {
   "cell_type": "code",
   "execution_count": null,
   "metadata": {
    "collapsed": true
   },
   "outputs": [],
   "source": []
  },
  {
   "cell_type": "markdown",
   "metadata": {},
   "source": [
    "---\n",
    "\n",
    "### Look at the coefficients for variables in the Lasso.\n",
    "\n",
    "1. Show the coefficient for variables, ordered from largest to smallest coefficient by absolute value.\n",
    "2. What percent of the variables in the original dataset are \"zeroed-out\" by the lasso?\n",
    "3. What are the most important predictors for how many shots kobe made in a game?\n",
    "\n",
    "Note: if you only fit the Lasso within cross_val_score, you will have to refit it outside of that\n",
    "function to pull out the coefficients."
   ]
  },
  {
   "cell_type": "code",
   "execution_count": 84,
   "metadata": {
    "collapsed": false
   },
   "outputs": [
    {
     "ename": "ValueError",
     "evalue": "absolute is an unrecognized kind of sort",
     "output_type": "error",
     "traceback": [
      "\u001b[0;31m---------------------------------------------------------------------------\u001b[0m",
      "\u001b[0;31mValueError\u001b[0m                                Traceback (most recent call last)",
      "\u001b[0;32m<ipython-input-84-cf36f972e611>\u001b[0m in \u001b[0;36m<module>\u001b[0;34m()\u001b[0m\n\u001b[0;32m----> 1\u001b[0;31m \u001b[0;32mprint\u001b[0m \u001b[0mnp\u001b[0m\u001b[0;34m.\u001b[0m\u001b[0msort\u001b[0m\u001b[0;34m(\u001b[0m\u001b[0mrlm2\u001b[0m\u001b[0;34m.\u001b[0m\u001b[0mcoef_\u001b[0m\u001b[0;34m,\u001b[0m\u001b[0mkind\u001b[0m\u001b[0;34m=\u001b[0m\u001b[0;34m'absolute'\u001b[0m\u001b[0;34m)\u001b[0m\u001b[0;34m\u001b[0m\u001b[0m\n\u001b[0m",
      "\u001b[0;32m//anaconda/envs/dsi/lib/python2.7/site-packages/numpy/core/fromnumeric.pyc\u001b[0m in \u001b[0;36msort\u001b[0;34m(a, axis, kind, order)\u001b[0m\n\u001b[1;32m    823\u001b[0m     \u001b[0;32melse\u001b[0m\u001b[0;34m:\u001b[0m\u001b[0;34m\u001b[0m\u001b[0m\n\u001b[1;32m    824\u001b[0m         \u001b[0ma\u001b[0m \u001b[0;34m=\u001b[0m \u001b[0masanyarray\u001b[0m\u001b[0;34m(\u001b[0m\u001b[0ma\u001b[0m\u001b[0;34m)\u001b[0m\u001b[0;34m.\u001b[0m\u001b[0mcopy\u001b[0m\u001b[0;34m(\u001b[0m\u001b[0morder\u001b[0m\u001b[0;34m=\u001b[0m\u001b[0;34m\"K\"\u001b[0m\u001b[0;34m)\u001b[0m\u001b[0;34m\u001b[0m\u001b[0m\n\u001b[0;32m--> 825\u001b[0;31m     \u001b[0ma\u001b[0m\u001b[0;34m.\u001b[0m\u001b[0msort\u001b[0m\u001b[0;34m(\u001b[0m\u001b[0maxis\u001b[0m\u001b[0;34m,\u001b[0m \u001b[0mkind\u001b[0m\u001b[0;34m,\u001b[0m \u001b[0morder\u001b[0m\u001b[0;34m)\u001b[0m\u001b[0;34m\u001b[0m\u001b[0m\n\u001b[0m\u001b[1;32m    826\u001b[0m     \u001b[0;32mreturn\u001b[0m \u001b[0ma\u001b[0m\u001b[0;34m\u001b[0m\u001b[0m\n\u001b[1;32m    827\u001b[0m \u001b[0;34m\u001b[0m\u001b[0m\n",
      "\u001b[0;31mValueError\u001b[0m: absolute is an unrecognized kind of sort"
     ]
    }
   ],
   "source": []
  },
  {
   "cell_type": "markdown",
   "metadata": {},
   "source": [
    "---\n",
    "\n",
    "### Find an optimal value for Elastic Net regression alpha using ElasticNetCV\n",
    "\n",
    "[Go to the documentation and read how LassoCV works.](http://scikit-learn.org/stable/modules/generated/sklearn.linear_model.ElasticNetCV.html).\n",
    "\n",
    "Note here that you will be optimizing both the alpha parameter and the l1_ratio:\n",
    "\n",
    "    alpha: strength of regularization\n",
    "    l1_ratio: amount of ridge vs. lasso (0 = all ridge, 1 = all lasso)\n",
    "    \n",
    "Do not include 0 in the search for l1_ratio: it will not allow it and break!\n",
    "\n",
    "You can use n_alphas for the alpha parameters instead of setting your own values: highly recommended!\n",
    "\n",
    "Also - be careful setting too many l1_ratios over cross-validation folds in your search. It can take a very long time if you choose too many combinations and for the most part there are diminishing returns in this data."
   ]
  },
  {
   "cell_type": "code",
   "execution_count": 91,
   "metadata": {
    "collapsed": false
   },
   "outputs": [
    {
     "name": "stdout",
     "output_type": "stream",
     "text": [
      "0.717492487221\n",
      "0.121267665872\n"
     ]
    }
   ],
   "source": [
    "encv = ElasticNetCV(cv=10)\n",
    "\n",
    "modelen = encv.fit(X_stand,y)\n",
    "predictionen = encv.predict(X_stand)\n",
    "scoreen = encv.score(X_stand,y)\n",
    "\n",
    "print scoreen\n",
    "print modelen.alpha_\n"
   ]
  },
  {
   "cell_type": "markdown",
   "metadata": {},
   "source": [
    "---\n",
    "\n",
    "### Cross-validate the ElasticNet $R^2$ with the optimal alpha and l1_ratio.\n",
    "\n",
    "How does it compare to the other regularized regressions?"
   ]
  },
  {
   "cell_type": "code",
   "execution_count": null,
   "metadata": {
    "collapsed": true
   },
   "outputs": [],
   "source": []
  },
  {
   "cell_type": "markdown",
   "metadata": {},
   "source": [
    "---\n",
    "\n",
    "### Plot the residuals for the ridge, lasso, and elastic net on histograms\n",
    "\n",
    "This is another way to look at the performance of your model.\n",
    "\n",
    "The tighter the distribution of residuals around zero, the better your model has performed!"
   ]
  },
  {
   "cell_type": "code",
   "execution_count": 92,
   "metadata": {
    "collapsed": false
   },
   "outputs": [
    {
     "name": "stdout",
     "output_type": "stream",
     "text": [
      "   0  1\n",
      "0  1  2\n",
      "1  2  4\n",
      "   0\n",
      "0  3\n",
      "1  6\n"
     ]
    }
   ],
   "source": [
    "X = pd.DataFrame([[1,2],[2,4]])\n",
    "y = pd.DataFrame([3,6])\n",
    "\n",
    "print X\n",
    "print y\n",
    "\n",
    "lm = lin"
   ]
  },
  {
   "cell_type": "code",
   "execution_count": 93,
   "metadata": {
    "collapsed": true
   },
   "outputs": [],
   "source": [
    "from sklearn.linear_model import LinearRegression\n",
    "lm = LinearRegression()\n",
    "\n",
    "model = lm.fit(X,y)\n",
    "prediction = lm.predict(X)\n",
    "score = lm.score(X,y)"
   ]
  },
  {
   "cell_type": "code",
   "execution_count": 94,
   "metadata": {
    "collapsed": false
   },
   "outputs": [
    {
     "name": "stdout",
     "output_type": "stream",
     "text": [
      "1.0\n"
     ]
    }
   ],
   "source": [
    "print score"
   ]
  },
  {
   "cell_type": "code",
   "execution_count": 95,
   "metadata": {
    "collapsed": false
   },
   "outputs": [
    {
     "name": "stdout",
     "output_type": "stream",
     "text": [
      "[[ 0.6  1.2]]\n"
     ]
    }
   ],
   "source": [
    "print model.coef_"
   ]
  },
  {
   "cell_type": "code",
   "execution_count": null,
   "metadata": {
    "collapsed": true
   },
   "outputs": [],
   "source": []
  }
 ],
 "metadata": {
  "anaconda-cloud": {},
  "kernelspec": {
   "display_name": "Python [dsi]",
   "language": "python",
   "name": "Python [dsi]"
  },
  "language_info": {
   "codemirror_mode": {
    "name": "ipython",
    "version": 2
   },
   "file_extension": ".py",
   "mimetype": "text/x-python",
   "name": "python",
   "nbconvert_exporter": "python",
   "pygments_lexer": "ipython2",
   "version": "2.7.12"
  }
 },
 "nbformat": 4,
 "nbformat_minor": 0
}
