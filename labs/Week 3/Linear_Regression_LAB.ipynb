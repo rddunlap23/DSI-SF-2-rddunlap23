{
 "cells": [
  {
   "cell_type": "markdown",
   "metadata": {},
   "source": [
    "# Linear Regression Practice\n",
    "\n",
    "In this lab we are going to use a 1994 dataset that has detailed prices on items sold at over 400 Burguer King, Wendy's, KFC and Roy Roger restaurants in New Jersey and Pennsivania.\n",
    "\n",
    "Roy Roger https://en.wikipedia.org/wiki/Roy_Rogers_Restaurants\n",
    "\n",
    "\n",
    "The data set has zip-code level data on various items prices, characterisitics of the zip code population.\n",
    "\n",
    "The idea with this exercise is to see wheter fast-food restaurants charge higher prices in areas with a larger concentration of African Americans. "
   ]
  },
  {
   "cell_type": "markdown",
   "metadata": {},
   "source": [
    "### Data Set Characteristics:  \n",
    "K. Graddy (1997), \"Do Fast-Food Chains Price Discriminate on the Race and Income Characteristics of an Area?\" Journal of Business and Economic Statistics 15, 391-401.\n",
    "http://people.brandeis.edu/~kgraddy/published%20papers/GraddyK_jbes1997.pdf\n",
    "\n",
    "    :Number of Instances: 410\n",
    "    \n",
    "    :Attribute Information\n",
    "    \n",
    "    psoda         price of medium soda, 1st wave\n",
    "    pfries        price of small fries, 1st wave\n",
    "    pentree       price entree (burger or chicken), 1st wave\n",
    "    wagest        starting wage, 1st wave\n",
    "    nmgrs         number of managers, 1st wave\n",
    "    nregs         number of registers, 1st wave\n",
    "    hrsopen       hours open, 1st wave\n",
    "    emp           number of employees, 1st wave\n",
    "    psoda2        price of medium soday, 2nd wave\n",
    "    pfries2       price of small fries, 2nd wave\n",
    "    pentree2      price entree, 2nd wave\n",
    "    wagest2       starting wage, 2nd wave\n",
    "    nmgrs2        number of managers, 2nd wave\n",
    "    nregs2        number of registers, 2nd wave\n",
    "    hrsopen2      hours open, 2nd wave\n",
    "    emp2          number of employees, 2nd wave\n",
    "    compown       =1 if company owned\n",
    "    chain         BK = 1, KFC = 2, Roy Rogers = 3, Wendy's = 4\n",
    "    density       population density, town\n",
    "    crmrte        crime rate, town\n",
    "    state         NJ = 1, PA = 2\n",
    "    prpblck       proportion black, zipcode\n",
    "    prppov        proportion in poverty, zipcode\n",
    "    prpncar       proportion no car, zipcode\n",
    "    hseval        median housing value, zipcode\n",
    "    nstores       number of stores, zipcode\n",
    "    income        median family income, zipcode\n",
    "    county        county label\n",
    "    lpsoda        log(psoda)\n",
    "    lpfries       log(pfries)\n",
    "    lhseval       log(hseval)\n",
    "    lincome       log(income)\n",
    "    ldensity      log(density)\n",
    "    NJ            =1 for New Jersey\n",
    "    BK            =1 if Burger King\n",
    "    KFC           =1 if Kentucky Fried Chicken\n",
    "    RR            =1 if Roy Rogers\n"
   ]
  },
  {
   "cell_type": "code",
   "execution_count": 7,
   "metadata": {
    "collapsed": true
   },
   "outputs": [],
   "source": [
    "# data modules\n",
    "import numpy as np\n",
    "import scipy.stats as stats\n",
    "import pandas as pd\n",
    "\n",
    "# plotting modules\n",
    "import matplotlib.pyplot as plt\n",
    "import seaborn as sns\n",
    "sns.set_style('whitegrid')\n",
    "\n",
    "# Stats/Regresions Packages\n",
    "from sklearn import linear_model\n",
    "from sklearn.metrics import mean_squared_error\n",
    "\n",
    "# make sure charts appear in the notebook:\n",
    "%matplotlib inline\n",
    "%config InlineBackend.figure_format ='retina'"
   ]
  },
  {
   "cell_type": "markdown",
   "metadata": {},
   "source": [
    "#### 1. Read the data, print the last 5 rows, perform EDA (missing values, data types, describe)"
   ]
  },
  {
   "cell_type": "code",
   "execution_count": 6,
   "metadata": {
    "collapsed": false
   },
   "outputs": [
    {
     "data": {
      "text/html": [
       "<div>\n",
       "<table border=\"1\" class=\"dataframe\">\n",
       "  <thead>\n",
       "    <tr style=\"text-align: right;\">\n",
       "      <th></th>\n",
       "      <th>psoda</th>\n",
       "      <th>pfries</th>\n",
       "      <th>pentree</th>\n",
       "      <th>wagest</th>\n",
       "      <th>nmgrs</th>\n",
       "      <th>nregs</th>\n",
       "      <th>hrsopen</th>\n",
       "      <th>emp</th>\n",
       "      <th>psoda2</th>\n",
       "      <th>pfries2</th>\n",
       "      <th>...</th>\n",
       "      <th>county</th>\n",
       "      <th>lpsoda</th>\n",
       "      <th>lpfries</th>\n",
       "      <th>lhseval</th>\n",
       "      <th>lincome</th>\n",
       "      <th>ldensity</th>\n",
       "      <th>NJ</th>\n",
       "      <th>BK</th>\n",
       "      <th>KFC</th>\n",
       "      <th>RR</th>\n",
       "    </tr>\n",
       "  </thead>\n",
       "  <tbody>\n",
       "    <tr>\n",
       "      <th>0</th>\n",
       "      <td>1.12</td>\n",
       "      <td>1.06</td>\n",
       "      <td>1.02</td>\n",
       "      <td>4.25</td>\n",
       "      <td>3.0</td>\n",
       "      <td>5.0</td>\n",
       "      <td>16.0</td>\n",
       "      <td>27.5</td>\n",
       "      <td>1.11</td>\n",
       "      <td>1.11</td>\n",
       "      <td>...</td>\n",
       "      <td>18</td>\n",
       "      <td>0.113329</td>\n",
       "      <td>0.058269</td>\n",
       "      <td>11.90699</td>\n",
       "      <td>10.70401</td>\n",
       "      <td>8.301521</td>\n",
       "      <td>1</td>\n",
       "      <td>0</td>\n",
       "      <td>0</td>\n",
       "      <td>1</td>\n",
       "    </tr>\n",
       "    <tr>\n",
       "      <th>1</th>\n",
       "      <td>1.06</td>\n",
       "      <td>0.91</td>\n",
       "      <td>0.95</td>\n",
       "      <td>4.75</td>\n",
       "      <td>3.0</td>\n",
       "      <td>3.0</td>\n",
       "      <td>16.5</td>\n",
       "      <td>21.5</td>\n",
       "      <td>1.05</td>\n",
       "      <td>0.89</td>\n",
       "      <td>...</td>\n",
       "      <td>18</td>\n",
       "      <td>0.058269</td>\n",
       "      <td>-0.094311</td>\n",
       "      <td>11.90699</td>\n",
       "      <td>10.70401</td>\n",
       "      <td>8.301521</td>\n",
       "      <td>1</td>\n",
       "      <td>1</td>\n",
       "      <td>0</td>\n",
       "      <td>0</td>\n",
       "    </tr>\n",
       "    <tr>\n",
       "      <th>2</th>\n",
       "      <td>1.06</td>\n",
       "      <td>0.91</td>\n",
       "      <td>0.98</td>\n",
       "      <td>4.25</td>\n",
       "      <td>3.0</td>\n",
       "      <td>5.0</td>\n",
       "      <td>18.0</td>\n",
       "      <td>30.0</td>\n",
       "      <td>1.05</td>\n",
       "      <td>0.94</td>\n",
       "      <td>...</td>\n",
       "      <td>12</td>\n",
       "      <td>0.058269</td>\n",
       "      <td>-0.094311</td>\n",
       "      <td>12.03884</td>\n",
       "      <td>10.62532</td>\n",
       "      <td>9.341369</td>\n",
       "      <td>1</td>\n",
       "      <td>1</td>\n",
       "      <td>0</td>\n",
       "      <td>0</td>\n",
       "    </tr>\n",
       "    <tr>\n",
       "      <th>3</th>\n",
       "      <td>1.12</td>\n",
       "      <td>1.02</td>\n",
       "      <td>1.06</td>\n",
       "      <td>5.00</td>\n",
       "      <td>4.0</td>\n",
       "      <td>5.0</td>\n",
       "      <td>16.0</td>\n",
       "      <td>27.5</td>\n",
       "      <td>1.15</td>\n",
       "      <td>1.05</td>\n",
       "      <td>...</td>\n",
       "      <td>10</td>\n",
       "      <td>0.113329</td>\n",
       "      <td>0.019803</td>\n",
       "      <td>12.05292</td>\n",
       "      <td>10.82707</td>\n",
       "      <td>9.029418</td>\n",
       "      <td>1</td>\n",
       "      <td>0</td>\n",
       "      <td>0</td>\n",
       "      <td>1</td>\n",
       "    </tr>\n",
       "    <tr>\n",
       "      <th>4</th>\n",
       "      <td>1.12</td>\n",
       "      <td>NaN</td>\n",
       "      <td>0.49</td>\n",
       "      <td>5.00</td>\n",
       "      <td>3.0</td>\n",
       "      <td>3.0</td>\n",
       "      <td>16.0</td>\n",
       "      <td>5.0</td>\n",
       "      <td>1.04</td>\n",
       "      <td>1.01</td>\n",
       "      <td>...</td>\n",
       "      <td>10</td>\n",
       "      <td>0.113329</td>\n",
       "      <td>NaN</td>\n",
       "      <td>12.42561</td>\n",
       "      <td>11.18840</td>\n",
       "      <td>6.579251</td>\n",
       "      <td>1</td>\n",
       "      <td>1</td>\n",
       "      <td>0</td>\n",
       "      <td>0</td>\n",
       "    </tr>\n",
       "  </tbody>\n",
       "</table>\n",
       "<p>5 rows × 37 columns</p>\n",
       "</div>"
      ],
      "text/plain": [
       "   psoda  pfries  pentree  wagest  nmgrs  nregs  hrsopen   emp  psoda2  \\\n",
       "0   1.12    1.06     1.02    4.25    3.0    5.0     16.0  27.5    1.11   \n",
       "1   1.06    0.91     0.95    4.75    3.0    3.0     16.5  21.5    1.05   \n",
       "2   1.06    0.91     0.98    4.25    3.0    5.0     18.0  30.0    1.05   \n",
       "3   1.12    1.02     1.06    5.00    4.0    5.0     16.0  27.5    1.15   \n",
       "4   1.12     NaN     0.49    5.00    3.0    3.0     16.0   5.0    1.04   \n",
       "\n",
       "   pfries2 ...  county    lpsoda   lpfries   lhseval   lincome  ldensity  NJ  \\\n",
       "0     1.11 ...      18  0.113329  0.058269  11.90699  10.70401  8.301521   1   \n",
       "1     0.89 ...      18  0.058269 -0.094311  11.90699  10.70401  8.301521   1   \n",
       "2     0.94 ...      12  0.058269 -0.094311  12.03884  10.62532  9.341369   1   \n",
       "3     1.05 ...      10  0.113329  0.019803  12.05292  10.82707  9.029418   1   \n",
       "4     1.01 ...      10  0.113329       NaN  12.42561  11.18840  6.579251   1   \n",
       "\n",
       "   BK  KFC  RR  \n",
       "0   0    0   1  \n",
       "1   1    0   0  \n",
       "2   1    0   0  \n",
       "3   0    0   1  \n",
       "4   1    0   0  \n",
       "\n",
       "[5 rows x 37 columns]"
      ]
     },
     "execution_count": 6,
     "metadata": {},
     "output_type": "execute_result"
    }
   ],
   "source": [
    "path_to_file = '/Users/ryandunlap/Desktop/DSI-SF-2/datasets/fast_food_chains/discrim.csv' ## Change it to your path\n",
    "fast_food = pd.read_csv(path_to_file)\n",
    "fast_food.head()"
   ]
  },
  {
   "cell_type": "markdown",
   "metadata": {},
   "source": [
    "#### 2. The variable/feature psoda has eight missing observations. Replace those missing observations with the average price of soda per chain ( you will have to find which chain is missing psoda values)"
   ]
  },
  {
   "cell_type": "code",
   "execution_count": 17,
   "metadata": {
    "collapsed": false
   },
   "outputs": [
    {
     "name": "stdout",
     "output_type": "stream",
     "text": [
      "<class 'pandas.core.frame.DataFrame'>\n",
      "RangeIndex: 410 entries, 0 to 409\n",
      "Data columns (total 37 columns):\n",
      "psoda       410 non-null float64\n",
      "pfries      393 non-null float64\n",
      "pentree     398 non-null float64\n",
      "wagest      390 non-null float64\n",
      "nmgrs       404 non-null float64\n",
      "nregs       388 non-null float64\n",
      "hrsopen     410 non-null float64\n",
      "emp         404 non-null float64\n",
      "psoda2      388 non-null float64\n",
      "pfries2     382 non-null float64\n",
      "pentree2    386 non-null float64\n",
      "wagest2     389 non-null float64\n",
      "nmgrs2      404 non-null float64\n",
      "nregs2      388 non-null float64\n",
      "hrsopen2    399 non-null float64\n",
      "emp2        397 non-null float64\n",
      "compown     410 non-null int64\n",
      "chain       410 non-null int64\n",
      "density     409 non-null float64\n",
      "crmrte      409 non-null float64\n",
      "state       410 non-null int64\n",
      "prpblck     409 non-null float64\n",
      "prppov      409 non-null float64\n",
      "prpncar     409 non-null float64\n",
      "hseval      409 non-null float64\n",
      "nstores     410 non-null int64\n",
      "income      409 non-null float64\n",
      "county      410 non-null int64\n",
      "lpsoda      402 non-null float64\n",
      "lpfries     393 non-null float64\n",
      "lhseval     409 non-null float64\n",
      "lincome     409 non-null float64\n",
      "ldensity    409 non-null float64\n",
      "NJ          410 non-null int64\n",
      "BK          410 non-null int64\n",
      "KFC         410 non-null int64\n",
      "RR          410 non-null int64\n",
      "dtypes: float64(28), int64(9)\n",
      "memory usage: 118.6 KB\n"
     ]
    }
   ],
   "source": [
    "fast_food['psoda'] = fast_food.groupby('chain').transform(lambda x: x.fillna(x.mean()))\n",
    "fast_food.info()"
   ]
  },
  {
   "cell_type": "markdown",
   "metadata": {},
   "source": [
    "#### 3. In one graph, plot the distribution of 'psoda' for each chain (4 histograms in one graph) add different colors per histogram, label each histogram, locate the legend on the 'upper left' side of your chart. Are there any similarities or differences in their distributions?\n",
    "\n"
   ]
  },
  {
   "cell_type": "code",
   "execution_count": 18,
   "metadata": {
    "collapsed": false
   },
   "outputs": [
    {
     "data": {
      "image/png": "[encoded data removed]",
      "text/plain": [
       "<matplotlib.figure.Figure at 0x11ab0eb50>"
      ]
     },
     "metadata": {
      "image/png": {
       "height": 370,
       "width": 597
      }
     },
     "output_type": "display_data"
    }
   ],
   "source": [
    "fig = plt.figure(figsize=(10,6))\n",
    "fast_food[fast_food['chain']==1]['psoda'].hist(color='r', label='Price of Soda, BK')\n",
    "fast_food[fast_food['chain']==2]['psoda'].hist(color='g', label='Price of Soda, KFC')\n",
    "fast_food[fast_food['chain']==3]['psoda'].hist(color='y', label='Price of Soda, Roy Rogers')\n",
    "fast_food[fast_food['chain']==4]['psoda'].hist(color='b', label= \"Price of Soda, Wendy's\")\n",
    "\n",
    "plt.legend(loc='upper left')\n",
    "plt.show()"
   ]
  },
  {
   "cell_type": "markdown",
   "metadata": {},
   "source": [
    "#### 4. The variable income has one missing value. First, identify to what state \"NJ=1 or PA=2\" this missing value belongs to. Then drop the \"row \" that corresponds to this missing value fast_food.drop(\"row_number\", axis=0)"
   ]
  },
  {
   "cell_type": "code",
   "execution_count": 28,
   "metadata": {
    "collapsed": false
   },
   "outputs": [],
   "source": [
    "fast_food = fast_food.drop(fast_food.loc[fast_food['income'].isnull()].index[0], axis=0)"
   ]
  },
  {
   "cell_type": "markdown",
   "metadata": {},
   "source": [
    "#### 5. Graph the distribution of psoda for the entire dataset and include a line for the average in your graph."
   ]
  },
  {
   "cell_type": "code",
   "execution_count": 31,
   "metadata": {
    "collapsed": false
   },
   "outputs": [
    {
     "data": {
      "image/png": "[encoded data removed]",
      "text/plain": [
       "<matplotlib.figure.Figure at 0x11df69dd0>"
      ]
     },
     "metadata": {
      "image/png": {
       "height": 370,
       "width": 603
      }
     },
     "output_type": "display_data"
    }
   ],
   "source": [
    "fig = plt.figure(figsize=(10,6))\n",
    "fast_food['psoda'].hist(color='r', label='Price of Soda, BK', bins = 20)\n",
    "plt.axvline(x=fast_food['psoda'].mean())\n",
    "\n",
    "plt.legend(loc='upper left')\n",
    "plt.show()"
   ]
  },
  {
   "cell_type": "markdown",
   "metadata": {},
   "source": [
    "#### 6. Find the average values of _prpblck_ and _income_ in the sample, along with their standard deviations. Can you infer the units of measurement of these two variables (Get used to do this, these are your baseline values)"
   ]
  },
  {
   "cell_type": "code",
   "execution_count": 37,
   "metadata": {
    "collapsed": false
   },
   "outputs": [
    {
     "name": "stdout",
     "output_type": "stream",
     "text": [
      "prpblck mean: 0.113486395844\n",
      "income mean: 47053.7848411\n",
      "prpblck std: 0.182416465423\n",
      "income std: 13179.2860689\n"
     ]
    }
   ],
   "source": [
    "print 'prpblck mean:',fast_food.prpblck.mean()\n",
    "print 'income mean:',fast_food.income.mean()\n",
    "\n",
    "print 'prpblck std:',fast_food.prpblck.std()\n",
    "print 'income std:',fast_food.income.std()"
   ]
  },
  {
   "cell_type": "markdown",
   "metadata": {},
   "source": [
    "### Linear Regressions"
   ]
  },
  {
   "cell_type": "markdown",
   "metadata": {},
   "source": [
    "#### 7.  Consider a model to explain the price of soda _psoda_, in terms of the proportion of the African American population and the median income\n",
    "    \n",
    "    psoda = β0 + β1prpblck + β2income + e\n"
   ]
  },
  {
   "cell_type": "code",
   "execution_count": 42,
   "metadata": {
    "collapsed": false
   },
   "outputs": [
    {
     "name": "stdout",
     "output_type": "stream",
     "text": [
      "(409,)\n",
      "(409, 2)\n"
     ]
    }
   ],
   "source": [
    "# Define your linear model \n",
    "#psoda = β0 + β1prpblck + β2income + e\n",
    "\n",
    "# Define the target variable, called it y\n",
    "y = fast_food['psoda']\n",
    "\n",
    "# Define your predictors, called them X\n",
    "X = fast_food[['prpblck','income']]\n",
    "\n",
    "# Print the shapes of your y and X\n",
    "print y.shape\n",
    "print X.shape\n"
   ]
  },
  {
   "cell_type": "code",
   "execution_count": 45,
   "metadata": {
    "collapsed": false
   },
   "outputs": [
    {
     "name": "stdout",
     "output_type": "stream",
     "text": [
      "(409,)\n"
     ]
    }
   ],
   "source": [
    "lm = linear_model.LinearRegression()\n",
    "# Fit your model\n",
    "model = lm.fit(X, y)\n",
    "# Predict your y, call them predictions, print the shape of predictions\n",
    "predictions = lm.predict(X)\n",
    "# Print the shape of predictions\n",
    "print predictions.shape"
   ]
  },
  {
   "cell_type": "code",
   "execution_count": 47,
   "metadata": {
    "collapsed": false
   },
   "outputs": [
    {
     "name": "stdout",
     "output_type": "stream",
     "text": [
      "Predictions Mean: 1.0454259397\n",
      "Actual Mean: 1.0454259397\n"
     ]
    }
   ],
   "source": [
    "## Is there a difference between the means for actual values (psoda) and your predictions\n",
    "print 'Predictions Mean:',predictions.mean()\n",
    "print 'Actual Mean:',y.mean()"
   ]
  },
  {
   "cell_type": "code",
   "execution_count": 50,
   "metadata": {
    "collapsed": false,
    "scrolled": false
   },
   "outputs": [
    {
     "data": {
      "image/png": "[encoded data removed]",
      "text/plain": [
       "<matplotlib.figure.Figure at 0x11e356910>"
      ]
     },
     "metadata": {
      "image/png": {
       "height": 273,
       "width": 397
      }
     },
     "output_type": "display_data"
    },
    {
     "name": "stdout",
     "output_type": "stream",
     "text": [
      "MSE: 0.00724966165558\n"
     ]
    }
   ],
   "source": [
    "## Construct a scatter plot of your model. Use your predicted values as your y axis and your y values as your x axis\n",
    "## Print the Mean Square error see/read this link \n",
    "## http://mste.illinois.edu/patel/amar430/meansquare.html\n",
    "plt.scatter(y, predictions, s=30, c='r', marker='+', zorder=10)\n",
    "plt.xlabel(\"Actual values\")\n",
    "plt.ylabel(\"Predicted Values from prpblck and income\")\n",
    "plt.show()\n",
    "\n",
    "print 'MSE:',mean_squared_error(y,predictions)"
   ]
  },
  {
   "cell_type": "code",
   "execution_count": 52,
   "metadata": {
    "collapsed": false
   },
   "outputs": [
    {
     "name": "stdout",
     "output_type": "stream",
     "text": [
      "R^2: 0.0633197857093\n"
     ]
    }
   ],
   "source": [
    "## What is the coefficient of determination (R^2) of the prediction. In other words,what is the accuracy of your model?\n",
    "score = lm.score(X,y)\n",
    "print 'R^2:',score"
   ]
  },
  {
   "cell_type": "code",
   "execution_count": 54,
   "metadata": {
    "collapsed": false
   },
   "outputs": [
    {
     "name": "stdout",
     "output_type": "stream",
     "text": [
      "Model coeffecients: [  1.13185366e-01   1.59318232e-06]\n"
     ]
    }
   ],
   "source": [
    "## Print the estimated coefficients of your model.\n",
    "print 'Model coeffecients:',model.coef_"
   ]
  },
  {
   "cell_type": "code",
   "execution_count": 55,
   "metadata": {
    "collapsed": false
   },
   "outputs": [
    {
     "name": "stdout",
     "output_type": "stream",
     "text": [
      "Model intercept: 0.957615682412\n"
     ]
    }
   ],
   "source": [
    "## What is the intercept of your model.\n",
    "print 'Model intercept:', model.intercept_"
   ]
  },
  {
   "cell_type": "code",
   "execution_count": null,
   "metadata": {
    "collapsed": true
   },
   "outputs": [],
   "source": [
    "## Write your results in equation form, include the sample size and R^2\n",
    "## Interpret the coefficient on prpblck\n",
    "y = 0.957615682412 + 1.13185366e-01 * prpblck + 1.59318232e-06 * income\n",
    "sample size  = 506\n",
    "R^2 = 0.0633197857093"
   ]
  },
  {
   "cell_type": "markdown",
   "metadata": {},
   "source": [
    "### 8.  Compare the estimate from question 7 with a simple regression estimate from _psoda_ on _prpblck_. Is the discrimination effect larger or smaller when you control/include income on your predictors?\n",
    "    \n",
    "    psoda = β0 + β1prpblck + e"
   ]
  },
  {
   "cell_type": "code",
   "execution_count": 58,
   "metadata": {
    "collapsed": false
   },
   "outputs": [
    {
     "name": "stdout",
     "output_type": "stream",
     "text": [
      "(409,)\n",
      "(409, 1)\n"
     ]
    }
   ],
   "source": [
    "# Define your predictors and called them X\n",
    "X = fast_food[['prpblck']]\n",
    "\n",
    "# Print the shapes of your y and X\n",
    "print y.shape\n",
    "print X.shape"
   ]
  },
  {
   "cell_type": "code",
   "execution_count": 62,
   "metadata": {
    "collapsed": false
   },
   "outputs": [
    {
     "data": {
      "text/plain": [
       "LinearRegression(copy_X=True, fit_intercept=True, n_jobs=1, normalize=False)"
      ]
     },
     "execution_count": 62,
     "metadata": {},
     "output_type": "execute_result"
    }
   ],
   "source": [
    "# Fit your model\n",
    "lm = linear_model.LinearRegression()\n",
    "lm.fit(X,y)"
   ]
  },
  {
   "cell_type": "code",
   "execution_count": 63,
   "metadata": {
    "collapsed": false
   },
   "outputs": [
    {
     "name": "stdout",
     "output_type": "stream",
     "text": [
      "(409,)\n"
     ]
    }
   ],
   "source": [
    "# find the predictors and called them predictions\n",
    "predictions = lm.predict(X)\n",
    "# print the shape of predictions\n",
    "print predictions.shape"
   ]
  },
  {
   "cell_type": "code",
   "execution_count": 64,
   "metadata": {
    "collapsed": false
   },
   "outputs": [
    {
     "name": "stdout",
     "output_type": "stream",
     "text": [
      "1.0454259397\n",
      "1.0454259397\n"
     ]
    }
   ],
   "source": [
    "## Is there a difference between the means for actual values (psoda) and your predictions\n",
    "print predictions.mean()\n",
    "print y.mean()"
   ]
  },
  {
   "cell_type": "code",
   "execution_count": 65,
   "metadata": {
    "collapsed": false
   },
   "outputs": [
    {
     "data": {
      "image/png": "[encoded data removed]",
      "text/plain": [
       "<matplotlib.figure.Figure at 0x11e3b69d0>"
      ]
     },
     "metadata": {
      "image/png": {
       "height": 273,
       "width": 397
      }
     },
     "output_type": "display_data"
    },
    {
     "name": "stdout",
     "output_type": "stream",
     "text": [
      "MSE: 0.00760680000723\n"
     ]
    }
   ],
   "source": [
    "## Construct a scatter plot of your model. Use your predicted values as your y axis and your y values as your x axis\n",
    "## Print the Mean Square error \n",
    "plt.scatter(y, predictions, s=30, c='r', marker='+', zorder=10)\n",
    "plt.xlabel(\"Actual values\")\n",
    "plt.ylabel(\"Predicted Values from prpblck\")\n",
    "plt.show()\n",
    "\n",
    "print 'MSE:',mean_squared_error(y,predictions)\n"
   ]
  },
  {
   "cell_type": "code",
   "execution_count": 66,
   "metadata": {
    "collapsed": false
   },
   "outputs": [
    {
     "name": "stdout",
     "output_type": "stream",
     "text": [
      "R^2: 0.0171763318978\n"
     ]
    }
   ],
   "source": [
    "## What is the accuracy of your model?\n",
    "print 'R^2:',lm.score(X,y)\n"
   ]
  },
  {
   "cell_type": "code",
   "execution_count": 67,
   "metadata": {
    "collapsed": false
   },
   "outputs": [
    {
     "data": {
      "text/plain": [
       "array([ 0.06328429])"
      ]
     },
     "execution_count": 67,
     "metadata": {},
     "output_type": "execute_result"
    }
   ],
   "source": [
    "## Print the estimated coefficients for the linear regression problem\n",
    "lm.coef_"
   ]
  },
  {
   "cell_type": "code",
   "execution_count": 68,
   "metadata": {
    "collapsed": false
   },
   "outputs": [
    {
     "data": {
      "text/plain": [
       "1.0382440331921921"
      ]
     },
     "execution_count": 68,
     "metadata": {},
     "output_type": "execute_result"
    }
   ],
   "source": [
    "## What is the intercept of your model.\n",
    "lm.intercept_"
   ]
  },
  {
   "cell_type": "code",
   "execution_count": null,
   "metadata": {
    "collapsed": true
   },
   "outputs": [],
   "source": [
    "## Write your results in equation form, include the sample size and R^2\n",
    "y = 1.0382440331921921 + 0.06328429 * x"
   ]
  },
  {
   "cell_type": "markdown",
   "metadata": {},
   "source": [
    "#### 9.  Now Use StatsModel and repeat questions 7 and 8\n",
    "http://statsmodels.sourceforge.net/devel/example_formulas.html\n",
    "\n",
    "##### Helpful Notes to Keep in mind:\n",
    "1. P value for a coefficient says nothing about the size of the effect that variable is having on your dependent variable - it is possible to have a highly significant result (very small P-value) for a miniscule effect.\n",
    "2. With a P value of 5% (or .05) there is only a 5% chance that results you are seeing would have come up in a \n",
    "random distribution, so you can say with a 95% probability of being correct that the variable is having some effect, assuming your model is specified correctly.\n",
    "3. In simple or multiple linear regression, the size of the coefficient for each independent variable gives you \n",
    "the size of the effect that variable is having on your dependent/target (y) variable, and the sign on the coefficient \n",
    "(positive or negative) gives you the direction of the effect. In regression with a single independent/predictor variable, the coefficient tells you how much the dependent variable is expected to increase (if the coefficient is positive) or decrease (if the coefficient is negative) when that independent variable increases by one unit. \n",
    "4. In regression with multiple independent/predictors variables, the coefficient tells you how much the dependent variable is expected to increase when that independent variable increases by one unit, \"_holding all the other independent variables constant_\". Remember to keep in mind the units which your variables are measured in."
   ]
  },
  {
   "cell_type": "code",
   "execution_count": 75,
   "metadata": {
    "collapsed": false
   },
   "outputs": [
    {
     "data": {
      "image/png": "[encoded data removed]",
      "text/plain": [
       "<matplotlib.figure.Figure at 0x11df2d110>"
      ]
     },
     "metadata": {
      "image/png": {
       "height": 273,
       "width": 392
      }
     },
     "output_type": "display_data"
    },
    {
     "name": "stdout",
     "output_type": "stream",
     "text": [
      "MSE: 0.0540586982747\n"
     ]
    },
    {
     "data": {
      "text/html": [
       "<table class=\"simpletable\">\n",
       "<caption>OLS Regression Results</caption>\n",
       "<tr>\n",
       "  <th>Dep. Variable:</th>          <td>psoda</td>      <th>  R-squared:         </th> <td>   0.951</td> \n",
       "</tr>\n",
       "<tr>\n",
       "  <th>Model:</th>                   <td>OLS</td>       <th>  Adj. R-squared:    </th> <td>   0.951</td> \n",
       "</tr>\n",
       "<tr>\n",
       "  <th>Method:</th>             <td>Least Squares</td>  <th>  F-statistic:       </th> <td>   3940.</td> \n",
       "</tr>\n",
       "<tr>\n",
       "  <th>Date:</th>             <td>Mon, 08 Aug 2016</td> <th>  Prob (F-statistic):</th> <td>4.59e-267</td>\n",
       "</tr>\n",
       "<tr>\n",
       "  <th>Time:</th>                 <td>17:00:00</td>     <th>  Log-Likelihood:    </th> <td>  16.321</td> \n",
       "</tr>\n",
       "<tr>\n",
       "  <th>No. Observations:</th>      <td>   409</td>      <th>  AIC:               </th> <td>  -28.64</td> \n",
       "</tr>\n",
       "<tr>\n",
       "  <th>Df Residuals:</th>          <td>   407</td>      <th>  BIC:               </th> <td>  -20.61</td> \n",
       "</tr>\n",
       "<tr>\n",
       "  <th>Df Model:</th>              <td>     2</td>      <th>                     </th>     <td> </td>    \n",
       "</tr>\n",
       "<tr>\n",
       "  <th>Covariance Type:</th>      <td>nonrobust</td>    <th>                     </th>     <td> </td>    \n",
       "</tr>\n",
       "</table>\n",
       "<table class=\"simpletable\">\n",
       "<tr>\n",
       "     <td></td>        <th>coef</th>     <th>std err</th>      <th>t</th>      <th>P>|t|</th> <th>[95.0% Conf. Int.]</th> \n",
       "</tr>\n",
       "<tr>\n",
       "  <th>prpblck</th> <td>    0.8310</td> <td>    0.059</td> <td>   14.116</td> <td> 0.000</td> <td>    0.715     0.947</td>\n",
       "</tr>\n",
       "<tr>\n",
       "  <th>income</th>  <td> 1.917e-05</td> <td> 2.59e-07</td> <td>   74.144</td> <td> 0.000</td> <td> 1.87e-05  1.97e-05</td>\n",
       "</tr>\n",
       "</table>\n",
       "<table class=\"simpletable\">\n",
       "<tr>\n",
       "  <th>Omnibus:</th>       <td>122.930</td> <th>  Durbin-Watson:     </th> <td>   1.191</td> \n",
       "</tr>\n",
       "<tr>\n",
       "  <th>Prob(Omnibus):</th> <td> 0.000</td>  <th>  Jarque-Bera (JB):  </th> <td> 621.384</td> \n",
       "</tr>\n",
       "<tr>\n",
       "  <th>Skew:</th>          <td>-1.194</td>  <th>  Prob(JB):          </th> <td>1.17e-135</td>\n",
       "</tr>\n",
       "<tr>\n",
       "  <th>Kurtosis:</th>      <td> 8.546</td>  <th>  Cond. No.          </th> <td>2.50e+05</td> \n",
       "</tr>\n",
       "</table>"
      ],
      "text/plain": [
       "<class 'statsmodels.iolib.summary.Summary'>\n",
       "\"\"\"\n",
       "                            OLS Regression Results                            \n",
       "==============================================================================\n",
       "Dep. Variable:                  psoda   R-squared:                       0.951\n",
       "Model:                            OLS   Adj. R-squared:                  0.951\n",
       "Method:                 Least Squares   F-statistic:                     3940.\n",
       "Date:                Mon, 08 Aug 2016   Prob (F-statistic):          4.59e-267\n",
       "Time:                        17:00:00   Log-Likelihood:                 16.321\n",
       "No. Observations:                 409   AIC:                            -28.64\n",
       "Df Residuals:                     407   BIC:                            -20.61\n",
       "Df Model:                           2                                         \n",
       "Covariance Type:            nonrobust                                         \n",
       "==============================================================================\n",
       "                 coef    std err          t      P>|t|      [95.0% Conf. Int.]\n",
       "------------------------------------------------------------------------------\n",
       "prpblck        0.8310      0.059     14.116      0.000         0.715     0.947\n",
       "income      1.917e-05   2.59e-07     74.144      0.000      1.87e-05  1.97e-05\n",
       "==============================================================================\n",
       "Omnibus:                      122.930   Durbin-Watson:                   1.191\n",
       "Prob(Omnibus):                  0.000   Jarque-Bera (JB):              621.384\n",
       "Skew:                          -1.194   Prob(JB):                    1.17e-135\n",
       "Kurtosis:                       8.546   Cond. No.                     2.50e+05\n",
       "==============================================================================\n",
       "\n",
       "Warnings:\n",
       "[1] Standard Errors assume that the covariance matrix of the errors is correctly specified.\n",
       "[2] The condition number is large, 2.5e+05. This might indicate that there are\n",
       "strong multicollinearity or other numerical problems.\n",
       "\"\"\""
      ]
     },
     "execution_count": 75,
     "metadata": {},
     "output_type": "execute_result"
    }
   ],
   "source": [
    "import statsmodels.api as sm\n",
    "\n",
    "X = fast_food[['prpblck','income']]\n",
    "y = fast_food[\"psoda\"]\n",
    "\n",
    "# Note the difference in argument order\n",
    "model = sm.OLS(y, X).fit()\n",
    "predictions = model.predict(X)\n",
    "\n",
    "# Plot the model\n",
    "plt.scatter(predictions, y, s=30, c='r', marker='+', zorder=10)\n",
    "plt.xlabel(\"Predicted Values from prpblck and income\")\n",
    "plt.ylabel(\"Actual Values psoda\")\n",
    "plt.show()\n",
    "\n",
    "print \"MSE:\", mean_squared_error(y, predictions)\n",
    "model.summary()\n"
   ]
  },
  {
   "cell_type": "code",
   "execution_count": 78,
   "metadata": {
    "collapsed": false
   },
   "outputs": [
    {
     "data": {
      "image/png": "[encoded data removed]",
      "text/plain": [
       "<matplotlib.figure.Figure at 0x11de9e090>"
      ]
     },
     "metadata": {
      "image/png": {
       "height": 273,
       "width": 392
      }
     },
     "output_type": "display_data"
    },
    {
     "name": "stdout",
     "output_type": "stream",
     "text": [
      "MSE: 0.784232843909\n"
     ]
    },
    {
     "data": {
      "text/html": [
       "<table class=\"simpletable\">\n",
       "<caption>OLS Regression Results</caption>\n",
       "<tr>\n",
       "  <th>Dep. Variable:</th>          <td>psoda</td>      <th>  R-squared:         </th> <td>   0.287</td>\n",
       "</tr>\n",
       "<tr>\n",
       "  <th>Model:</th>                   <td>OLS</td>       <th>  Adj. R-squared:    </th> <td>   0.286</td>\n",
       "</tr>\n",
       "<tr>\n",
       "  <th>Method:</th>             <td>Least Squares</td>  <th>  F-statistic:       </th> <td>   164.6</td>\n",
       "</tr>\n",
       "<tr>\n",
       "  <th>Date:</th>             <td>Mon, 08 Aug 2016</td> <th>  Prob (F-statistic):</th> <td>6.83e-32</td>\n",
       "</tr>\n",
       "<tr>\n",
       "  <th>Time:</th>                 <td>17:03:32</td>     <th>  Log-Likelihood:    </th> <td> -530.64</td>\n",
       "</tr>\n",
       "<tr>\n",
       "  <th>No. Observations:</th>      <td>   409</td>      <th>  AIC:               </th> <td>   1063.</td>\n",
       "</tr>\n",
       "<tr>\n",
       "  <th>Df Residuals:</th>          <td>   408</td>      <th>  BIC:               </th> <td>   1067.</td>\n",
       "</tr>\n",
       "<tr>\n",
       "  <th>Df Model:</th>              <td>     1</td>      <th>                     </th>     <td> </td>   \n",
       "</tr>\n",
       "<tr>\n",
       "  <th>Covariance Type:</th>      <td>nonrobust</td>    <th>                     </th>     <td> </td>   \n",
       "</tr>\n",
       "</table>\n",
       "<table class=\"simpletable\">\n",
       "<tr>\n",
       "     <td></td>        <th>coef</th>     <th>std err</th>      <th>t</th>      <th>P>|t|</th> <th>[95.0% Conf. Int.]</th> \n",
       "</tr>\n",
       "<tr>\n",
       "  <th>prpblck</th> <td>    2.6206</td> <td>    0.204</td> <td>   12.830</td> <td> 0.000</td> <td>    2.219     3.022</td>\n",
       "</tr>\n",
       "</table>\n",
       "<table class=\"simpletable\">\n",
       "<tr>\n",
       "  <th>Omnibus:</th>       <td>233.616</td> <th>  Durbin-Watson:     </th> <td>   0.266</td> \n",
       "</tr>\n",
       "<tr>\n",
       "  <th>Prob(Omnibus):</th> <td> 0.000</td>  <th>  Jarque-Bera (JB):  </th> <td>1309.776</td> \n",
       "</tr>\n",
       "<tr>\n",
       "  <th>Skew:</th>          <td>-2.535</td>  <th>  Prob(JB):          </th> <td>3.85e-285</td>\n",
       "</tr>\n",
       "<tr>\n",
       "  <th>Kurtosis:</th>      <td>10.153</td>  <th>  Cond. No.          </th> <td>    1.00</td> \n",
       "</tr>\n",
       "</table>"
      ],
      "text/plain": [
       "<class 'statsmodels.iolib.summary.Summary'>\n",
       "\"\"\"\n",
       "                            OLS Regression Results                            \n",
       "==============================================================================\n",
       "Dep. Variable:                  psoda   R-squared:                       0.287\n",
       "Model:                            OLS   Adj. R-squared:                  0.286\n",
       "Method:                 Least Squares   F-statistic:                     164.6\n",
       "Date:                Mon, 08 Aug 2016   Prob (F-statistic):           6.83e-32\n",
       "Time:                        17:03:32   Log-Likelihood:                -530.64\n",
       "No. Observations:                 409   AIC:                             1063.\n",
       "Df Residuals:                     408   BIC:                             1067.\n",
       "Df Model:                           1                                         \n",
       "Covariance Type:            nonrobust                                         \n",
       "==============================================================================\n",
       "                 coef    std err          t      P>|t|      [95.0% Conf. Int.]\n",
       "------------------------------------------------------------------------------\n",
       "prpblck        2.6206      0.204     12.830      0.000         2.219     3.022\n",
       "==============================================================================\n",
       "Omnibus:                      233.616   Durbin-Watson:                   0.266\n",
       "Prob(Omnibus):                  0.000   Jarque-Bera (JB):             1309.776\n",
       "Skew:                          -2.535   Prob(JB):                    3.85e-285\n",
       "Kurtosis:                      10.153   Cond. No.                         1.00\n",
       "==============================================================================\n",
       "\n",
       "Warnings:\n",
       "[1] Standard Errors assume that the covariance matrix of the errors is correctly specified.\n",
       "\"\"\""
      ]
     },
     "execution_count": 78,
     "metadata": {},
     "output_type": "execute_result"
    }
   ],
   "source": [
    "import statsmodels.api as sm\n",
    "\n",
    "X = fast_food[['prpblck']]\n",
    "y = fast_food[\"psoda\"]\n",
    "\n",
    "# Note the difference in argument order\n",
    "model = sm.OLS(y, X).fit()\n",
    "predictions = model.predict(X)\n",
    "\n",
    "# Plot the model\n",
    "plt.scatter(predictions, y, s=30, c='r', marker='+', zorder=10)\n",
    "plt.xlabel(\"Predicted Values from prpblck and income\")\n",
    "plt.ylabel(\"Actual Values psoda\")\n",
    "plt.show()\n",
    "\n",
    "print \"MSE:\", mean_squared_error(y, predictions)\n",
    "model.summary()"
   ]
  },
  {
   "cell_type": "markdown",
   "metadata": {},
   "source": [
    "#### 10. There is one fundamental step that I have \"purposely\" left out? Can you guess what this step is, and implement it. Use Matplotlib and Seaborn (regplot) to graph hem."
   ]
  },
  {
   "cell_type": "code",
   "execution_count": null,
   "metadata": {
    "collapsed": false
   },
   "outputs": [],
   "source": []
  },
  {
   "cell_type": "markdown",
   "metadata": {},
   "source": [
    "### Before you move to the next question, read this article \"Why I'm not a fan of R-Squared\"\n",
    "http://www.johnmyleswhite.com/notebook/2016/07/23/why-im-not-a-fan-of-r-squared/"
   ]
  },
  {
   "cell_type": "markdown",
   "metadata": {},
   "source": [
    "### Bonus\n",
    "#### 11. Report the estimates of the follwing model (use sklearn):\n",
    "    log(psoda) = β0 + β1prpblck + β2log(income) + e\n"
   ]
  },
  {
   "cell_type": "code",
   "execution_count": null,
   "metadata": {
    "collapsed": false
   },
   "outputs": [],
   "source": [
    "## If there are missing observations on any of the log variables, would you dropped them\n",
    "## from the dataset, if so how does this impact your calculations?\n",
    "## Fill the missing values of lpsoda with 0\n"
   ]
  },
  {
   "cell_type": "code",
   "execution_count": null,
   "metadata": {
    "collapsed": false
   },
   "outputs": [],
   "source": [
    "## Plot a histogram that will have 2 histograms showing the distribution of psoda and lpsoda\n",
    "## Are they the same?\n"
   ]
  },
  {
   "cell_type": "code",
   "execution_count": null,
   "metadata": {
    "collapsed": false
   },
   "outputs": [],
   "source": [
    "## Plot a histogram of the variable log of income (lincome)\n"
   ]
  },
  {
   "cell_type": "code",
   "execution_count": null,
   "metadata": {
    "collapsed": false
   },
   "outputs": [],
   "source": [
    "## Plot a histogram of the variable income \n"
   ]
  },
  {
   "cell_type": "code",
   "execution_count": null,
   "metadata": {
    "collapsed": true
   },
   "outputs": [],
   "source": [
    "## Can you explain what log is doing to the variables (income, and price of soda (psoda))"
   ]
  },
  {
   "cell_type": "code",
   "execution_count": null,
   "metadata": {
    "collapsed": false
   },
   "outputs": [],
   "source": [
    "## In one graph use seaborn regplot to graph\n",
    "## graph psoda, vs lincome\n",
    "## graph lpsoda vs income\n",
    "## graph lpsoda vs lincome\n"
   ]
  },
  {
   "cell_type": "code",
   "execution_count": null,
   "metadata": {
    "collapsed": false
   },
   "outputs": [],
   "source": [
    "## graph lpsoda vs income\n"
   ]
  },
  {
   "cell_type": "code",
   "execution_count": null,
   "metadata": {
    "collapsed": false
   },
   "outputs": [],
   "source": [
    "# graph lpsoda vs lincome\n"
   ]
  },
  {
   "cell_type": "code",
   "execution_count": null,
   "metadata": {
    "collapsed": false
   },
   "outputs": [],
   "source": [
    "# Define your linear model \n",
    "\n",
    "\n",
    "# Define the target variable, called it y\n",
    "\n",
    "\n",
    "\n",
    "# Define your predictors, called them X\n",
    "\n",
    "\n",
    "# Print the shapes of your y and X\n",
    "\n",
    "\n"
   ]
  },
  {
   "cell_type": "code",
   "execution_count": null,
   "metadata": {
    "collapsed": false
   },
   "outputs": [],
   "source": [
    "# Fit your model\n",
    "\n",
    "\n",
    "# Predict your y, call them predictions, print the shape of predictions\n",
    "# Print the shape of predictions\n"
   ]
  },
  {
   "cell_type": "code",
   "execution_count": null,
   "metadata": {
    "collapsed": false
   },
   "outputs": [],
   "source": [
    "## Graph your predicted and y values\n"
   ]
  },
  {
   "cell_type": "code",
   "execution_count": null,
   "metadata": {
    "collapsed": false
   },
   "outputs": [],
   "source": [
    "## Print the coefficients, and R2, interpret your result \n",
    "## See/read this link for interpretation of results/coeficients: \n",
    "## http://www.ats.ucla.edu/stat/mult_pkg/faq/general/log_transformed_regression.htm\n",
    "\n",
    "\n",
    "\n",
    "## Do you think that is model is more appropriate? "
   ]
  },
  {
   "cell_type": "code",
   "execution_count": null,
   "metadata": {
    "collapsed": false
   },
   "outputs": [],
   "source": [
    "## Now add the variable prppov to the regression in question 11, What happened with prpblck?\n",
    "\n",
    "# Define your linear model \n",
    "\n",
    "\n",
    "# Define the target variable, called it y\n",
    "\n",
    "\n",
    "\n",
    "# Define your predictors, called them X\n",
    "\n",
    "\n",
    "# Print the shapes of your y and X\n"
   ]
  },
  {
   "cell_type": "code",
   "execution_count": null,
   "metadata": {
    "collapsed": false
   },
   "outputs": [],
   "source": [
    "# Fit your model\n",
    "\n",
    "\n",
    "# Predict your y, call them predictions, print the shape of predictions\n",
    "# Print the shape of predictions\n",
    "\n",
    "## Print the coefficients, and R2, interpret your result\n"
   ]
  },
  {
   "cell_type": "code",
   "execution_count": null,
   "metadata": {
    "collapsed": false
   },
   "outputs": [],
   "source": [
    "## Find the correlatoion between log(income) and prpov. Is it close to what you expected?\n"
   ]
  },
  {
   "cell_type": "code",
   "execution_count": null,
   "metadata": {
    "collapsed": true
   },
   "outputs": [],
   "source": [
    "## What are your thoughts on this statement:\n",
    "## \"Because log(income) and prppov are so highky correlated, they have no business in being \n",
    "## included in the same regression\""
   ]
  },
  {
   "cell_type": "code",
   "execution_count": null,
   "metadata": {
    "collapsed": false
   },
   "outputs": [],
   "source": []
  },
  {
   "cell_type": "code",
   "execution_count": null,
   "metadata": {
    "collapsed": true
   },
   "outputs": [],
   "source": []
  }
 ],
 "metadata": {
  "anaconda-cloud": {},
  "kernelspec": {
   "display_name": "Python [Root]",
   "language": "python",
   "name": "Python [Root]"
  },
  "language_info": {
   "codemirror_mode": {
    "name": "ipython",
    "version": 2
   },
   "file_extension": ".py",
   "mimetype": "text/x-python",
   "name": "python",
   "nbconvert_exporter": "python",
   "pygments_lexer": "ipython2",
   "version": "2.7.12"
  }
 },
 "nbformat": 4,
 "nbformat_minor": 0
}
